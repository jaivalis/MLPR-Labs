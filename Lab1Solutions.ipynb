{
 "metadata": {
  "name": "Lab1Solutions"
 },
 "nbformat": 3,
 "nbformat_minor": 0,
 "worksheets": [
  {
   "cells": [
    {
     "cell_type": "heading",
     "level": 1,
     "metadata": {},
     "source": [
      "Lab 1A: Linear Regression and Overfitting"
     ]
    },
    {
     "cell_type": "heading",
     "level": 2,
     "metadata": {},
     "source": [
      "Part 1: Polynomial Regression"
     ]
    },
    {
     "cell_type": "heading",
     "level": 3,
     "metadata": {},
     "source": [
      "1.1. Generate sinusoidal data"
     ]
    },
    {
     "cell_type": "code",
     "collapsed": false,
     "input": [
      "%pylab inline\n",
      "def gen_sinusoidal(N):\n",
      "    x = linspace (0,2*pi)\n",
      "    \n",
      "    for i in linspace (0, 2*pi, N/2*pi):\n",
      "        plot(i, sin(i) + random.normal(-0.1, 0.1), 'o')\n",
      "    plot(x, sin(x))\n",
      "    \n",
      "gen_sinusoidal(10)"
     ],
     "language": "python",
     "metadata": {},
     "outputs": [
      {
       "output_type": "stream",
       "stream": "stdout",
       "text": [
        "\n",
        "Welcome to pylab, a matplotlib-based Python environment [backend: module://IPython.zmq.pylab.backend_inline].\n",
        "For more information, type 'help(pylab)'.\n"
       ]
      },
      {
       "output_type": "display_data",
       "png": "[encoded data removed]"
      }
     ],
     "prompt_number": 40
    },
    {
     "cell_type": "heading",
     "level": 3,
     "metadata": {},
     "source": [
      "Task 1.2 Polynomial Regression"
     ]
    },
    {
     "cell_type": "code",
     "collapsed": false,
     "input": [
      "%pylab inline\n",
      "import numpy as np\n",
      "# data to fit\n",
      "x = [0.0,1.0,2,3,4,5]\n",
      "y = [0,0.8,0.9,0.1,-0.8,-1]\n",
      "\n",
      "def fit_polynomial(x,t,M):\n",
      "    w=[]\n",
      "    y=[]\n",
      "    for i in range(0,M+1):\n",
      "        w.append([])\n",
      "        if(i==0):\n",
      "            y.append([])\n",
      "        for j in range (0,M+1):\n",
      "            w[i].append(j)\n",
      "            if(i==0):\n",
      "                y[i].append(j)\n",
      "            w[i][j]=0\n",
      "            if(i==0):\n",
      "                y[0][j]=0\n",
      "            for k in range(0,len(x)):\n",
      "                w[i][j]+=pow(x[k],i+j)\n",
      "                if(i==0):\n",
      "                    y[i][j] += t[k]*pow(x[k],j)\n",
      "    #print w\n",
      "    #print y\n",
      "    a=linalg.inv(w)\n",
      "    #print a\n",
      "    #b=transpose(y)\n",
      "    result = dot(a,transpose(y))\n",
      "    return result\n",
      "    \n",
      "print fit_polynomial(x,y,3)"
     ],
     "language": "python",
     "metadata": {},
     "outputs": [
      {
       "output_type": "stream",
       "stream": "stdout",
       "text": [
        "Populating the interactive namespace from numpy and matplotlib\n",
        "[[-0.03968254]\n",
        " [ 1.69312169]\n",
        " [-0.81349206]\n",
        " [ 0.08703704]]\n"
       ]
      }
     ],
     "prompt_number": 2
    },
    {
     "cell_type": "heading",
     "level": 3,
     "metadata": {},
     "source": [
      "Task 1.3 Plot"
     ]
    },
    {
     "cell_type": "code",
     "collapsed": false,
     "input": [
      "import matplotlib.pyplot as plt\n",
      "import numpy as np\n",
      "def fit_polynomial(x,t,M):\n",
      "    w=[]\n",
      "    y=[]\n",
      "    for i in range(0,M+1):\n",
      "        w.append([])\n",
      "        if(i==0):\n",
      "            y.append([])\n",
      "        for j in range (0,M+1):\n",
      "            w[i].append(j)\n",
      "            if(i==0):\n",
      "                y[i].append(j)\n",
      "            w[i][j]=0\n",
      "            if(i==0):\n",
      "                y[0][j]=0\n",
      "            for k in range(0,len(x)):\n",
      "                w[i][j]+=pow(x[k],i+j)\n",
      "                if(i==0):\n",
      "                    y[i][j] += t[k]*pow(x[k],j)\n",
      "    a=linalg.inv(w)\n",
      "    result = dot(a,transpose(y))\n",
      "    return result\n",
      "\n",
      "def generateSampleDataSet(N):\n",
      "    x = np.linspace(0,2*np.pi, N) \n",
      "    retx = []\n",
      "    rety = []\n",
      "    for i in x:\n",
      "        retx.append(i)\n",
      "        rety.append(np.sin(i) + np.random.normal(-0.1, 0.1))\n",
      "    retx = np.array([retx])\n",
      "    rety = np.array([rety])\n",
      "    return np.concatenate((retx, rety), axis = 0)\n",
      "\n",
      "def fit_polynominals() :\n",
      "    x = np.linspace(0,2 * np.pi)\n",
      "    pol = []\n",
      "    M = [0, 1, 3, 8]\n",
      "    sampleData = generateSampleDataSet(9)\n",
      "    sampleX = sampleData[0]\n",
      "    sampleY = sampleData[1]\n",
      "    \n",
      "    fig = plt.figure()\n",
      "    subplot = 1\n",
      "    for m in M:    \n",
      "        fig.add_subplot(2,2,subplot)\n",
      "        plt.plot(x, np.sin(x))\n",
      "        for i in range (0, np.size(sampleX)):\n",
      "            plt.plot(sampleX[i], sampleY[i], 'o')\n",
      "        poly = fit_polynomial(sampleX, sampleY, m)\n",
      "        pol = np.polynomial.Polynomial(poly.reshape(1,poly.shape[0])[0])\n",
      "        plt.plot(x, pol(x), 'r')\n",
      "        subplot = subplot + 1\n",
      "    plt.show()\n",
      "    \n",
      "fit_polynominals()"
     ],
     "language": "python",
     "metadata": {},
     "outputs": [
      {
       "metadata": {},
       "output_type": "display_data",
       "png": "[encoded data removed]",
       "text": [
        "<matplotlib.figure.Figure at 0x92910f0>"
       ]
      }
     ],
     "prompt_number": 72
    },
    {
     "cell_type": "heading",
     "level": 3,
     "metadata": {},
     "source": [
      "1.4 Reguralized linear Regression"
     ]
    },
    {
     "cell_type": "code",
     "collapsed": false,
     "input": [
      "%pylab inline\n",
      "import numpy as np\n",
      "import matplotlib.pyplot as plt\n",
      "\n",
      "def fit_polynomial_reg(x,t,M,lamb):\n",
      "    w=[]\n",
      "    y=[]\n",
      "    for i in range(0,M+1):\n",
      "        w.append([])\n",
      "        if(i==0):\n",
      "            y.append([])\n",
      "        for j in range (0,M+1):\n",
      "            w[i].append(j)\n",
      "            if(i==0):\n",
      "                y[i].append(j)\n",
      "            w[i][j]=0\n",
      "            if(i==0):\n",
      "                y[0][j]=0\n",
      "            for k in range(0,len(x)):\n",
      "                w[i][j]+=pow(x[k],i+j)\n",
      "                if(i==0):\n",
      "                    y[i][j] += t[k]*pow(x[k],j)\n",
      "    a=linalg.inv(w)\n",
      "    identity_Matrix = np.identity(M+1)\n",
      "    identity_Matrix[0][0] = 0\n",
      "    a += dot(lamb,a)\n",
      "    result = dot(a,transpose(y))\n",
      "    return result"
     ],
     "language": "python",
     "metadata": {},
     "outputs": [
      {
       "output_type": "stream",
       "stream": "stdout",
       "text": [
        "Populating the interactive namespace from numpy and matplotlib\n"
       ]
      }
     ],
     "prompt_number": 82
    },
    {
     "cell_type": "heading",
     "level": 3,
     "metadata": {},
     "source": [
      "1.5 Model selection by cross validation"
     ]
    },
    {
     "cell_type": "code",
     "collapsed": false,
     "input": [
      "import numpy as np\n",
      "\n",
      "def generateSampleDataSet(N):\n",
      "    x = np.linspace(0,2*np.pi, N) \n",
      "    retx = []\n",
      "    rety = []\n",
      "    for i in x:\n",
      "        retx.append(i)\n",
      "        rety.append(np.sin(i) + np.random.normal(-0.1, 0.1))\n",
      "    retx = np.array([retx])\n",
      "    rety = np.array([rety])\n",
      "    return np.concatenate((retx, rety), axis = 0)\n",
      "\n",
      "def kfold_indices(N,k):\n",
      "    all_indices = np.arange(N,dtype=int)\n",
      "    np.random.shuffle(all_indices)\n",
      "    idx = np.floor(np.linspace(0,N,k+1))\n",
      "    train_folds = []\n",
      "    valid_folds = []\n",
      "    for fold in range(k):\n",
      "        valid_indices = all_indices[idx[fold]:idx[fold+1]]\n",
      "        valid_folds.append(valid_indices)\n",
      "        train_folds.append(np.setdiff1d(all_indices, valid_indices)) #appends an array of idk - valid_folds to train_folds\n",
      "    return train_folds, valid_folds\n",
      "\n",
      "def fit_polynomial_reg(x,t,M,lamb):\n",
      "    w=[]\n",
      "    y=[]\n",
      "    for i in range(0,M+1):\n",
      "        w.append([])\n",
      "        if(i==0):\n",
      "            y.append([])\n",
      "        for j in range (0,M+1):\n",
      "            w[i].append(j)\n",
      "            if(i==0):\n",
      "                y[i].append(j)\n",
      "            w[i][j]=0\n",
      "            if(i==0):\n",
      "                y[0][j]=0\n",
      "            for k in range(0,len(x)):\n",
      "                w[i][j]+=pow(x[k],i+j)\n",
      "                if(i==0):\n",
      "                    y[i][j] += t[k]*pow(x[k],j)\n",
      "    a=linalg.inv(w)\n",
      "    identity_Matrix = np.identity(M+1)\n",
      "    identity_Matrix[0][0] = 0\n",
      "    a += dot(lamb,a)\n",
      "    result = dot(a,transpose(y))\n",
      "    return result\n",
      "        \n",
      "#evaluate all models with different M and lamb with given data\n",
      "def model_evaluation(dataX,dataY):\n",
      "        models = []\n",
      "        indices = kfold_indices(9,9)\n",
      "        error = 0\n",
      "        lamb = []\n",
      "        for i in range(0,11):\n",
      "            lamb.append(math.exp(i-10))\n",
      "        #loop over 10 different M\n",
      "        for i in range(0,11):\n",
      "            #loop over 10 different lamb\n",
      "            for j in lamb:\n",
      "                #reset error to zero\n",
      "                error = 0\n",
      "                #loop over 9 folds\n",
      "                for k in range(0,8):\n",
      "                    for l in range(0,8):\n",
      "                        #create train_fold\n",
      "                        train_foldX = dataX[indices[0][l]]\n",
      "                        train_foldY = dataY[indices[0][l]]\n",
      "                    #fit polynomial for train_folds\n",
      "                    poly = fit_polynomial_reg(train_foldX,train_foldY,i,j)\n",
      "                    #sum calculated prediction error\n",
      "                    error += (dataY[k] - np.polyval(poly,dataX[k]))**2\n",
      "                #update models with error for M and lamb\n",
      "                models.append(str(i) + \", \" + str(j) + \", \" + str(error/8))\n",
      "        return models\n",
      "\n",
      "sampleData = generateSampleDataSet(9)\n",
      "model_evaluation(sampleData[0],sampleData[1])"
     ],
     "language": "python",
     "metadata": {},
     "outputs": [
      {
       "metadata": {},
       "output_type": "pyout",
       "prompt_number": 130,
       "text": [
        "['0, 4.53999297625e-05, [ 0.47055312]',\n",
        " '0, 0.000123409804087, [ 0.47055318]',\n",
        " '0, 0.000335462627903, [ 0.47055336]',\n",
        " '0, 0.000911881965555, [ 0.47055385]',\n",
        " '0, 0.00247875217667, [ 0.47055517]',\n",
        " '0, 0.00673794699909, [ 0.47055877]',\n",
        " '0, 0.0183156388887, [ 0.47056855]',\n",
        " '0, 0.0497870683679, [ 0.47059516]',\n",
        " '0, 0.135335283237, [ 0.47066761]',\n",
        " '0, 0.367879441171, [ 0.47086542]',\n",
        " '0, 1.0, [ 0.47140974]',\n",
        " '1, 4.53999297625e-05, [ 3.99596069]',\n",
        " '1, 0.000123409804087, [ 3.99641547]',\n",
        " '1, 0.000335462627903, [ 3.99765182]',\n",
        " '1, 0.000911881965555, [ 4.00101361]',\n",
        " '1, 0.00247875217667, [ 4.01015966]',\n",
        " '1, 0.00673794699909, [ 4.03507834]',\n",
        " '1, 0.0183156388887, [ 4.10323668]',\n",
        " '1, 0.0497870683679, [ 4.29163088]',\n",
        " '1, 0.135335283237, [ 4.82679789]',\n",
        " '1, 0.367879441171, [ 6.45191321]',\n",
        " '1, 1.0, [ 12.128386]',\n",
        " '2, 4.53999297625e-05, [ 41.48897191]',\n",
        " '2, 0.000123409804087, [ 41.49492772]',\n",
        " '2, 0.000335462627903, [ 41.51111949]',\n",
        " '2, 0.000911881965555, [ 41.55514932]',\n",
        " '2, 0.00247875217667, [ 41.67495344]',\n",
        " '2, 0.00673794699909, [ 42.00149138]',\n",
        " '2, 0.0183156388887, [ 42.89559057]',\n",
        " '2, 0.0497870683679, [ 45.37386337]',\n",
        " '2, 0.135335283237, [ 52.4641418]',\n",
        " '2, 0.367879441171, [ 74.35054193]',\n",
        " '2, 1.0, [ 153.15173496]',\n",
        " '3, 4.53999297625e-05, [ 157.77554387]',\n",
        " '3, 0.000123409804087, [ 157.79919701]',\n",
        " '3, 0.000335462627903, [ 157.86350187]',\n",
        " '3, 0.000911881965555, [ 158.03836692]',\n",
        " '3, 0.00247875217667, [ 158.51418935]',\n",
        " '3, 0.00673794699909, [ 159.81122897]',\n",
        " '3, 0.0183156388887, [ 163.36369786]',\n",
        " '3, 0.0497870683679, [ 173.21796417]',\n",
        " '3, 0.135335283237, [ 201.46511866]',\n",
        " '3, 0.367879441171, [ 289.04042484]',\n",
        " '3, 1.0, [ 606.83437413]',\n",
        " '4, 4.53999297625e-05, [ 3480.39245704]',\n",
        " '4, 0.000123409804087, [ 3480.93083843]',\n",
        " '4, 0.000335462627903, [ 3482.39452123]',\n",
        " '4, 0.000911881965555, [ 3486.3747785]',\n",
        " '4, 0.00247875217667, [ 3497.20572902]',\n",
        " '4, 0.00673794699909, [ 3526.73220145]',\n",
        " '4, 0.0183156388887, [ 3607.62077956]',\n",
        " '4, 0.0497870683679, [ 3832.13392073]',\n",
        " '4, 0.135335283237, [ 4476.67358546]',\n",
        " '4, 0.367879441171, [ 6481.78679779]',\n",
        " '4, 1.0, [ 13802.21838317]',\n",
        " '5, 4.53999297625e-05, [ 32740.37573045]',\n",
        " '5, 0.000123409804087, [ 32745.46980713]',\n",
        " '5, 0.000335462627903, [ 32759.31894592]',\n",
        " '5, 0.000911881965555, [ 32796.97960545]',\n",
        " '5, 0.00247875217667, [ 32899.46122997]',\n",
        " '5, 0.00673794699909, [ 33178.84307235]',\n",
        " '5, 0.0183156388887, [ 33944.25131148]',\n",
        " '5, 0.0497870683679, [ 36068.95672515]',\n",
        " '5, 0.135335283237, [ 42170.43688949]',\n",
        " '5, 0.367879441171, [ 61164.30973046]',\n",
        " '5, 1.0, [ 130590.29595588]',\n",
        " '6, 4.53999297625e-05, [ 367878.45663022]',\n",
        " '6, 0.000123409804087, [ 367935.80609688]',\n",
        " '6, 0.000335462627903, [ 368091.72064895]',\n",
        " '6, 0.000911881965555, [ 368515.7072968]',\n",
        " '6, 0.00247875217667, [ 369669.45584508]',\n",
        " '6, 0.00673794699909, [ 372814.78256508]',\n",
        " '6, 0.0183156388887, [ 381432.00399165]',\n",
        " '6, 0.0497870683679, [ 405353.59674967]',\n",
        " '6, 0.135335283237, [ 474055.69932187]',\n",
        " '6, 0.367879441171, [ 687973.03191188]',\n",
        " '6, 1.0, [ 1470189.18331178]',\n",
        " '7, 4.53999297625e-05, [ 379940.14707455]',\n",
        " '7, 0.000123409804087, [ 379999.43376398]',\n",
        " '7, 0.000335462627903, [ 380160.61144439]',\n",
        " '7, 0.000911881965555, [ 380598.91257253]',\n",
        " '7, 0.00247875217667, [ 381791.61185751]',\n",
        " '7, 0.00673794699909, [ 385043.13499073]',\n",
        " '7, 0.0183156388887, [ 393951.36242141]',\n",
        " '7, 0.0497870683679, [ 418681.27673653]',\n",
        " '7, 0.135335283237, [ 489708.30946139]',\n",
        " '7, 0.367879441171, [ 710888.96494305]',\n",
        " '7, 1.0, [ 1519820.42034356]',\n",
        " '8, 4.53999297625e-05, [  1.89483666e+09]',\n",
        " '8, 0.000123409804087, [  1.89521084e+09]',\n",
        " '8, 0.000335462627903, [  1.89599450e+09]',\n",
        " '8, 0.000911881965555, [  1.89811683e+09]',\n",
        " '8, 0.00247875217667, [  1.90414024e+09]',\n",
        " '8, 0.00673794699909, [  1.92039271e+09]',\n",
        " '8, 0.0183156388887, [  1.96471156e+09]',\n",
        " '8, 0.0497870683679, [  2.08806191e+09]',\n",
        " '8, 0.135335283237, [  2.44209265e+09]',\n",
        " '8, 0.367879441171, [  3.54506587e+09]',\n",
        " '8, 1.0, [  7.57888178e+09]',\n",
        " '9, 4.53999297625e-05, [  6.45275542e+13]',\n",
        " '9, 0.000123409804087, [  6.45379010e+13]',\n",
        " '9, 0.000335462627903, [  6.45655095e+13]',\n",
        " '9, 0.000911881965555, [  6.46399160e+13]',\n",
        " '9, 0.00247875217667, [  6.48419782e+13]',\n",
        " '9, 0.00673794699909, [  6.53940037e+13]',\n",
        " '9, 0.0183156388887, [  6.69072454e+13]',\n",
        " '9, 0.0497870683679, [  7.11063016e+13]',\n",
        " '9, 0.135335283237, [  8.31680212e+13]',\n",
        " '9, 0.367879441171, [  1.20725420e+14]',\n",
        " '9, 1.0, [  2.58087301e+14]',\n",
        " '10, 4.53999297625e-05, [  9.26623149e+14]',\n",
        " '10, 0.000123409804087, [  9.26787000e+14]',\n",
        " '10, 0.000335462627903, [  9.27172815e+14]',\n",
        " '10, 0.000911881965555, [  9.28230226e+14]',\n",
        " '10, 0.00247875217667, [  9.31140163e+14]',\n",
        " '10, 0.00673794699909, [  9.39076046e+14]',\n",
        " '10, 0.0183156388887, [  9.60762191e+14]',\n",
        " '10, 0.0497870683679, [  1.02112632e+15]',\n",
        " '10, 0.135335283237, [  1.19428558e+15]',\n",
        " '10, 0.367879441171, [  1.73364930e+15]',\n",
        " '10, 1.0, [  3.70616429e+15]']"
       ]
      }
     ],
     "prompt_number": 130
    },
    {
     "cell_type": "heading",
     "level": 1,
     "metadata": {},
     "source": [
      "Part 2: Bayesian Linear (Polynomial) Regression\n"
     ]
    },
    {
     "cell_type": "heading",
     "level": 3,
     "metadata": {},
     "source": [
      "2.1 Sinusoidal data 2 "
     ]
    },
    {
     "cell_type": "code",
     "collapsed": false,
     "input": [
      "%pylab inline\n",
      "\n",
      "def gen_sinusoidal2(N):\n",
      "    x = linspace (0,2*pi)\n",
      "    \n",
      "    for i in linspace (0, 2*pi, N/2*pi):\n",
      "        plot(i + random.uniform(-0.1, 0.1), sin(i)+ random.normal(-0.1, 0.1), 'o')\n",
      "    plot(x, sin(x))\n",
      "    \n",
      "gen_sinusoidal2(10)\n"
     ],
     "language": "python",
     "metadata": {},
     "outputs": [
      {
       "output_type": "stream",
       "stream": "stdout",
       "text": [
        "\n",
        "Welcome to pylab, a matplotlib-based Python environment [backend: module://IPython.zmq.pylab.backend_inline].\n",
        "For more information, type 'help(pylab)'.\n"
       ]
      },
      {
       "output_type": "display_data",
       "png": "[encoded data removed]"
      }
     ],
     "prompt_number": 8
    },
    {
     "cell_type": "code",
     "collapsed": false,
     "input": [],
     "language": "python",
     "metadata": {},
     "outputs": []
    }
   ],
   "metadata": {}
  }
 ]
}