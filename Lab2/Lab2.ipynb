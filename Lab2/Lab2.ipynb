{
 "metadata": {
  "name": ""
 },
 "nbformat": 3,
 "nbformat_minor": 0,
 "worksheets": [
  {
   "cells": [
    {
     "cell_type": "heading",
     "level": 1,
     "metadata": {},
     "source": [
      "Code to be tested before moved to the report"
     ]
    },
    {
     "cell_type": "code",
     "collapsed": false,
     "input": [
      "%pylab inline\n",
      "import gzip, cPickle\n",
      "\n",
      "def load_mnist():\n",
      "\tf = gzip.open('mnist.pkl.gz', 'rb')\n",
      "\tdata = cPickle.load(f)\n",
      "\tf.close()\n",
      "\treturn data\n",
      "\n",
      "def plot_digits(data, numcols, shape=(28,28)):\n",
      "    numdigits = data.shape[0]\n",
      "    numrows = int(numdigits/numcols)\n",
      "    for i in range(numdigits):\n",
      "        plt.subplot(numrows, numcols, i)\n",
      "        plt.axis('off')\n",
      "        plt.imshow(data[i].reshape(shape), interpolation='nearest', cmap='Greys')\n",
      "    plt.show()\n",
      "\n",
      "def plot_digit(digit) :\n",
      "    plt.imshow(digit.reshape(28,28), interpolation='nearest', cmap='Greys')\n",
      "    plt.show()\n",
      "\n",
      "(x_train, t_train), (x_valid, t_valid), (x_test, t_test) = load_mnist()\n",
      "#plot_digits(x_train[0:8], numcols=4)\n",
      "#print x_train[0]\n",
      "plot_digit(x_train[1])\n",
      "print t_train[1]\n",
      "\n",
      "print shape(x_train)\n",
      "print shape(t_train)\n",
      "print shape(x_valid)\n",
      "print shape(t_valid)\n",
      "print shape(x_test)\n",
      "print shape(t_test)"
     ],
     "language": "python",
     "metadata": {},
     "outputs": [
      {
       "output_type": "stream",
       "stream": "stdout",
       "text": [
        "Populating the interactive namespace from numpy and matplotlib\n"
       ]
      },
      {
       "metadata": {},
       "output_type": "display_data",
       "png": "[encoded data removed]",
       "text": [
        "<matplotlib.figure.Figure at 0x626dba8>"
       ]
      },
      {
       "output_type": "stream",
       "stream": "stdout",
       "text": [
        "0\n",
        "(50000L, 784L)\n",
        "(50000L,)\n",
        "(10000L, 784L)\n",
        "(10000L,)\n",
        "(10000L, 784L)\n",
        "(10000L,)\n"
       ]
      }
     ],
     "prompt_number": 2
    },
    {
     "cell_type": "code",
     "collapsed": false,
     "input": [],
     "language": "python",
     "metadata": {},
     "outputs": []
    },
    {
     "cell_type": "heading",
     "level": 1,
     "metadata": {},
     "source": [
      "/Code to be tested before moved to the report"
     ]
    },
    {
     "cell_type": "heading",
     "level": 1,
     "metadata": {},
     "source": [
      "Lab\u00a02: Classification"
     ]
    },
    {
     "cell_type": "heading",
     "level": 2,
     "metadata": {},
     "source": [
      "Part\u00a01. Multiclass\u00a0logistic\u00a0regression"
     ]
    },
    {
     "cell_type": "heading",
     "level": 3,
     "metadata": {},
     "source": [
      "1.1\u00a0Gradient\u00adbased\u00a0stochastic\u00a0optimization"
     ]
    },
    {
     "cell_type": "heading",
     "level": 4,
     "metadata": {},
     "source": [
      "1.1.1\u00a0Derive\u00a0gradient\u00a0equations"
     ]
    },
    {
     "cell_type": "raw",
     "metadata": {},
     "source": [
      "Equations here"
     ]
    },
    {
     "cell_type": "markdown",
     "metadata": {},
     "source": [
      "For \n",
      "$$ j=t^{(i)} : \\delta_j^q = \\frac{\\partial \\mathcal{L}^{(i)}}{\\partial \\log p_j} \\frac{\\partial \\log p_j}{\\partial \\log q_j} + \\frac{\\partial \\mathcal{L}^{(i)}}{\\partial \\log Z} \\frac{\\partial \\log Z}{\\partial Z} \\frac{\\partial Z}{\\partial \\log q_j} = 1 \\cdot 1 - \\frac{\\partial \\log Z}{\\partial Z} \\frac{\\partial Z}{\\partial \\log q_j} = 1 - \\frac{\\partial \\log Z}{\\partial Z} \\frac{\\partial Z}{\\partial \\log q_j} = 1 - \\frac{1}{Z} exp(\\log  q_j)$$\n",
      "\n",
      "\n",
      "For $$j \\neq t^{(i)}: \\delta_{j}^q = \\frac{\\partial \\mathcal{L}^{(i)}}{\\partial \\log Z} \\frac{\\partial \\log Z}{\\partial Z} \\frac{\\partial Z}{\\partial \\log q_j} = - \\frac{\\partial \\log Z}{\\partial Z} \\frac{\\partial Z}{\\partial \\log q_j} = - \\frac{1}{Z} exp(\\log  q_j)$$\n",
      "\n",
      "\n",
      "$$\\frac{\\partial \\mathcal{L}^{(i)}}{\\partial b_j} = \\frac{\\partial \\mathcal{L}^{(i)}}{\\partial \\log q_j} \\frac {\\partial \\log q_j}{\\partial b_j} = \\delta_j^q \\cdot 1 = \\delta_j^q$$\n",
      "\n",
      "$$\\nabla_b\\mathcal{L}^{(i)}= \\delta^q = \\frac{1}{Z} exp(\\log  q_j)$$ \n",
      "\n",
      "$$\\frac{\\partial \\mathcal{L}^{(i)}}{\\partial W_{ij}} = \\frac{\\partial \\mathcal{L}^{(i)}}{\\partial \\log q_j} \\frac {\\partial \\log q_j}{\\partial W_{ij}} = \\delta_j^q \\frac {\\partial \\log q_j}{\\partial W_{ij}} = \\frac{1}{Z} exp(w_{ij}x + b)x$$\n",
      "\n",
      "$$\\nabla_{W_{ij}} \\mathcal{L}^{(i)} = \\frac{1}{Z} exp(w_{ij}x + b)x$$\n"
     ]
    },
    {
     "cell_type": "heading",
     "level": 4,
     "metadata": {},
     "source": [
      "1.1.2 Implement gradient computations"
     ]
    },
    {
     "cell_type": "code",
     "collapsed": false,
     "input": [
      "import numpy as np\n",
      "# Write a function logreg_gradient(x,t,w,b) that returns the gradient \n",
      "# with respect to the parameters w and b)\n",
      "# of the log-likelihood for a single datapoint (x,t)\n",
      "\n",
      "# x is a vector: 784         (datapoint)\n",
      "# t is a scalar              (corresponding class)\n",
      "# W is a matrix: 784 x 10    (weights)\n",
      "# b is a vector: 10          (bias)\n",
      "#\n",
      "# returns a matrix: 784 x 10 (partial derivative of log likelihood wrt w)\n",
      "# returns a vector: 10       (partial derivative of log likelihood wrt b)\n",
      "def logreg_gradient(x, t, W, b):\n",
      "    log_Q = []\n",
      "    log_P = []\n",
      "    partial_derivative_logLikelihood_b = []\n",
      "    partial_derivative_logLikelihood_W = []\n",
      "    # log_Q -> Z -> log_P -> delta\n",
      "\n",
      "    # log_Q = the unnormalized probability of the class j\n",
      "    # log_Q is supposed to be a 10 x 1 vector\n",
      "    \n",
      "    log_Q = np.dot(np.transpose(W), x) + b\n",
      "    \n",
      "    Z = 0.0\n",
      "    for i in range (0, 10): # Z = normalizing factor        \n",
      "        Z += math.exp(log_Q[i])\n",
      "        \n",
      "    for j in range(0,10):\n",
      "        # log_P = networs output; contains conditional log probabilities for each digit class j\n",
      "        # log_P is supposed to be a 10 x 1 vector\n",
      "        log_P.append(log_Q[j] - math.log1p(Z))\n",
      "        \n",
      "    for j in range(0,10):\n",
      "        # partial_derivative_logLikelihood_b = derivative of log(Z) w.r.t. Z * derivative of Z w.r.t. log_Q\n",
      "        # partial_derivative_logLikelihood_b is supposed to be a 10 x 1 vector\n",
      "        partial_derivative_logLikelihood_b.append(1/Z * math.exp(log_Q[j]))\n",
      "    # partial_derivative_logLikelihood_W = partial_derivative_logLikelihood_b * derivative of log(q) w.r.t. w\n",
      "    # partial_derivative_logLikelihood_W is supposed to be a 784 x 10 matrix\n",
      "    \n",
      "    partial_derivative_logLikelihood_W = np.outer(x, partial_derivative_logLikelihood_b)\n",
      "    \n",
      "    return partial_derivative_logLikelihood_W, partial_derivative_logLikelihood_b\n",
      "    "
     ],
     "language": "python",
     "metadata": {},
     "outputs": [],
     "prompt_number": 3
    },
    {
     "cell_type": "heading",
     "level": 4,
     "metadata": {},
     "source": [
      "    1.1.3 Stochastic gradient descent"
     ]
    },
    {
     "cell_type": "code",
     "collapsed": false,
     "input": [
      "# x_train is a matrix: 50000 x 784 (dataset)\n",
      "# t_train is a vector: 50000       (class of x)\n",
      "# W       is a matrix: 784 x 10    (weights)\n",
      "# b       is a vector: 10          (bias for each class)\n",
      "def sgd_iter(x_train, t_train, W, b):\n",
      "    alpha = 1E-4      # learning rate\n",
      "    \n",
      "    x_trainIndex = np.arange(len(x_train), dtype = int)\n",
      "    np.random.shuffle(x_trainIndex) # shuffle indices\n",
      "\n",
      "    for xIndex in x_trainIndex:\n",
      "        x = x_train[xIndex]\n",
      "        t = t_train[xIndex]\n",
      "        \n",
      "        W = W + alpha * logreg_gradient(x, t, W, b)[0]\n",
      "        \n",
      "    return W\n",
      "\n",
      "W = zeros((784,10))\n",
      "b = np.array( [0, 0, 0, 0, 0, 0, 0, 0, 0, 0])\n",
      "\n",
      "(x_train, t_train), (x_valid, t_valid), (x_test, t_test) = load_mnist()\n",
      "W = sgd_iter(x_train, t_train, W, b)"
     ],
     "language": "python",
     "metadata": {},
     "outputs": [],
     "prompt_number": "*"
    },
    {
     "cell_type": "heading",
     "level": 4,
     "metadata": {},
     "source": [
      "1.2.1\u00a0Train"
     ]
    },
    {
     "cell_type": "code",
     "collapsed": false,
     "input": [
      "def plot_training(handful):\n",
      "    (x_train, t_train), (x_valid, t_valid), (x_test, t_test) = load_mnist()\n",
      "    for i in range(0,handful):\n",
      "        W = sgd_iter(x_train, t_train, W, b)\n",
      "    \n",
      "        \n",
      "        \n",
      "        "
     ],
     "language": "python",
     "metadata": {},
     "outputs": []
    },
    {
     "cell_type": "heading",
     "level": 4,
     "metadata": {},
     "source": [
      "1.2.2\u00a0Visualize\u00a0weights"
     ]
    },
    {
     "cell_type": "code",
     "collapsed": false,
     "input": [],
     "language": "python",
     "metadata": {},
     "outputs": []
    },
    {
     "cell_type": "heading",
     "level": 4,
     "metadata": {},
     "source": [
      "1.2.3.\u00a0Visualize\u00a0the\u00a08\u00a0hardest\u00a0and\u00a08\u00a0easiest\u00a0digits"
     ]
    },
    {
     "cell_type": "code",
     "collapsed": false,
     "input": [],
     "language": "python",
     "metadata": {},
     "outputs": []
    },
    {
     "cell_type": "heading",
     "level": 2,
     "metadata": {},
     "source": [
      "Part\u00a02.\u00a0Multilayer\u00a0perceptron"
     ]
    },
    {
     "cell_type": "heading",
     "level": 3,
     "metadata": {},
     "source": [
      "2.1\u00a0Derive\u00a0gradient\u00a0equations"
     ]
    },
    {
     "cell_type": "code",
     "collapsed": false,
     "input": [],
     "language": "python",
     "metadata": {},
     "outputs": []
    },
    {
     "cell_type": "heading",
     "level": 3,
     "metadata": {},
     "source": [
      "2.2\u00a0MAP\u00a0optimization"
     ]
    },
    {
     "cell_type": "code",
     "collapsed": false,
     "input": [],
     "language": "python",
     "metadata": {},
     "outputs": []
    },
    {
     "cell_type": "heading",
     "level": 3,
     "metadata": {},
     "source": [
      "2.3.\u00a0Extra (lol as if..)"
     ]
    },
    {
     "cell_type": "heading",
     "level": 4,
     "metadata": {},
     "source": [
      "2.3.1.\u00a010% bonus\u00a0points:\u00a0Implement\u00a0and train\u00a0a MLP"
     ]
    },
    {
     "cell_type": "code",
     "collapsed": false,
     "input": [],
     "language": "python",
     "metadata": {},
     "outputs": []
    },
    {
     "cell_type": "heading",
     "level": 4,
     "metadata": {},
     "source": [
      "2.3.2.\u00a010%\u00a0bonus\u00a0points:\u00a0Less\u00a0than\u00a0150\u00a0misclassifications\u00a0on\u00a0the\u00a0test\u00a0set"
     ]
    },
    {
     "cell_type": "code",
     "collapsed": false,
     "input": [],
     "language": "python",
     "metadata": {},
     "outputs": []
    }
   ],
   "metadata": {}
  }
 ]
}