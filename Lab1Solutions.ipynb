{
 "metadata": {
  "name": ""
 },
 "nbformat": 3,
 "nbformat_minor": 0,
 "worksheets": [
  {
   "cells": [
    {
     "cell_type": "heading",
     "level": 1,
     "metadata": {},
     "source": [
      "Lab 1A: Linear Regression and Overfitting"
     ]
    },
    {
     "cell_type": "heading",
     "level": 2,
     "metadata": {},
     "source": [
      "Part 1: Polynomial Regression"
     ]
    },
    {
     "cell_type": "heading",
     "level": 3,
     "metadata": {},
     "source": [
      "1.1. Generate sinusoidal data"
     ]
    },
    {
     "cell_type": "code",
     "collapsed": false,
     "input": [
      "%pylab inline\n",
      "def gen_sinusoidal(N):\n",
      "    x = linspace (0,2*pi)\n",
      "    \n",
      "    for i in linspace (0, 2*pi, N/2*pi):\n",
      "        plot(i, sin(i) + random.normal(-0.1, 0.1), 'o')\n",
      "    plot(x, sin(x))\n",
      "    \n",
      "gen_sinusoidal(10)"
     ],
     "language": "python",
     "metadata": {},
     "outputs": [
      {
       "output_type": "stream",
       "stream": "stdout",
       "text": [
        "\n",
        "Welcome to pylab, a matplotlib-based Python environment [backend: module://IPython.zmq.pylab.backend_inline].\n",
        "For more information, type 'help(pylab)'.\n"
       ]
      },
      {
       "output_type": "display_data",
       "png": "[encoded data removed]"
      }
     ],
     "prompt_number": 40
    },
    {
     "cell_type": "heading",
     "level": 3,
     "metadata": {},
     "source": [
      "Task 1.2 Polynomial Regression"
     ]
    },
    {
     "cell_type": "code",
     "collapsed": false,
     "input": [
      "%pylab inline\n",
      "import numpy as np\n",
      "# data to fit\n",
      "x = [0.0,1.0,2,3,4,5]\n",
      "y = [0,0.8,0.9,0.1,-0.8,-1]\n",
      "\n",
      "def fit_polynomial(x,t,M):\n",
      "    w=[]\n",
      "    y=[]\n",
      "    for i in range(0,M+1):\n",
      "        w.append([])\n",
      "        if(i==0):\n",
      "            y.append([])\n",
      "        for j in range (0,M+1):\n",
      "            w[i].append(j)\n",
      "            if(i==0):\n",
      "                y[i].append(j)\n",
      "            w[i][j]=0\n",
      "            if(i==0):\n",
      "                y[0][j]=0\n",
      "            for k in range(0,len(x)):\n",
      "                w[i][j]+=pow(x[k],i+j)\n",
      "                if(i==0):\n",
      "                    y[i][j] += t[k]*pow(x[k],j)\n",
      "    #print w\n",
      "    #print y\n",
      "    a=linalg.inv(w)\n",
      "    #print a\n",
      "    #b=transpose(y)\n",
      "    result = dot(a,transpose(y))\n",
      "    return result\n",
      "    \n",
      "print fit_polynomial(x,y,3)"
     ],
     "language": "python",
     "metadata": {},
     "outputs": [
      {
       "output_type": "stream",
       "stream": "stdout",
       "text": [
        "Populating the interactive namespace from numpy and matplotlib\n",
        "[[-0.03968254]\n",
        " [ 1.69312169]\n",
        " [-0.81349206]\n",
        " [ 0.08703704]]\n"
       ]
      }
     ],
     "prompt_number": 2
    },
    {
     "cell_type": "heading",
     "level": 3,
     "metadata": {},
     "source": [
      "Task 1.3 Plot"
     ]
    },
    {
     "cell_type": "code",
     "collapsed": false,
     "input": [
      "import matplotlib.pyplot as plt\n",
      "import numpy as np\n",
      "def fit_polynomial(x,t,M):\n",
      "    w=[]\n",
      "    y=[]\n",
      "    for i in range(0,M+1):\n",
      "        w.append([])\n",
      "        if(i==0):\n",
      "            y.append([])\n",
      "        for j in range (0,M+1):\n",
      "            w[i].append(j)\n",
      "            if(i==0):\n",
      "                y[i].append(j)\n",
      "            w[i][j]=0\n",
      "            if(i==0):\n",
      "                y[0][j]=0\n",
      "            for k in range(0,len(x)):\n",
      "                w[i][j]+=pow(x[k],i+j)\n",
      "                if(i==0):\n",
      "                    y[i][j] += t[k]*pow(x[k],j)\n",
      "    a=linalg.inv(w)\n",
      "    result = dot(a,transpose(y))\n",
      "    return result\n",
      "\n",
      "def generateSampleDataSet(N):\n",
      "    x = np.linspace(0,2*np.pi, N) \n",
      "    retx = []\n",
      "    rety = []\n",
      "    for i in x:\n",
      "        retx.append(i)\n",
      "        rety.append(np.sin(i) + np.random.normal(-0.1, 0.1))\n",
      "    retx = np.array([retx])\n",
      "    rety = np.array([rety])\n",
      "    return np.concatenate((retx, rety), axis = 0)\n",
      "\n",
      "def fit_polynominals() :\n",
      "    x = np.linspace(0,2 * np.pi)\n",
      "    pol = []\n",
      "    M = [0, 1, 3, 8]\n",
      "    sampleData = generateSampleDataSet(9)\n",
      "    sampleX = sampleData[0]\n",
      "    sampleY = sampleData[1]\n",
      "    \n",
      "    fig = plt.figure()\n",
      "    subplot = 1\n",
      "    for m in M:    \n",
      "        fig.add_subplot(2,2,subplot)\n",
      "        plt.plot(x, np.sin(x))\n",
      "        for i in range (0, np.size(sampleX)):\n",
      "            plt.plot(sampleX[i], sampleY[i], 'o')\n",
      "        poly = fit_polynomial(sampleX, sampleY, m)\n",
      "        print \"poly: \", poly.reshape(1,poly.shape[0])\n",
      "        \n",
      "        print type(poly.reshape(1,poly.shape[0]))\n",
      "        print shape(poly.reshape(1,poly.shape[0]))\n",
      "        pol = np.polynomial.Polynomial(poly.reshape(1,poly.shape[0]))\n",
      "        print \"pol: \", pol\n",
      "        #plt.plot(x, pol(x), 'r')\n",
      "        subplot = subplot + 1\n",
      "    plt.show()\n",
      "    \n",
      "fit_polynominals()"
     ],
     "language": "python",
     "metadata": {},
     "outputs": [
      {
       "ename": "ValueError",
       "evalue": "Coefficient array is not 1-d",
       "output_type": "pyerr",
       "traceback": [
        "\u001b[1;31m---------------------------------------------------------------------------\u001b[0m\n\u001b[1;31mValueError\u001b[0m                                Traceback (most recent call last)",
        "\u001b[1;32m<ipython-input-66-c1e8001cc1d9>\u001b[0m in \u001b[0;36m<module>\u001b[1;34m()\u001b[0m\n\u001b[0;32m     60\u001b[0m     \u001b[0mplt\u001b[0m\u001b[1;33m.\u001b[0m\u001b[0mshow\u001b[0m\u001b[1;33m(\u001b[0m\u001b[1;33m)\u001b[0m\u001b[1;33m\u001b[0m\u001b[0m\n\u001b[0;32m     61\u001b[0m \u001b[1;33m\u001b[0m\u001b[0m\n\u001b[1;32m---> 62\u001b[1;33m \u001b[0mfit_polynominals\u001b[0m\u001b[1;33m(\u001b[0m\u001b[1;33m)\u001b[0m\u001b[1;33m\u001b[0m\u001b[0m\n\u001b[0m",
        "\u001b[1;32m<ipython-input-66-c1e8001cc1d9>\u001b[0m in \u001b[0;36mfit_polynominals\u001b[1;34m()\u001b[0m\n\u001b[0;32m     54\u001b[0m         \u001b[1;32mprint\u001b[0m \u001b[0mtype\u001b[0m\u001b[1;33m(\u001b[0m\u001b[0mpoly\u001b[0m\u001b[1;33m.\u001b[0m\u001b[0mreshape\u001b[0m\u001b[1;33m(\u001b[0m\u001b[1;36m1\u001b[0m\u001b[1;33m,\u001b[0m\u001b[0mpoly\u001b[0m\u001b[1;33m.\u001b[0m\u001b[0mshape\u001b[0m\u001b[1;33m[\u001b[0m\u001b[1;36m0\u001b[0m\u001b[1;33m]\u001b[0m\u001b[1;33m)\u001b[0m\u001b[1;33m)\u001b[0m\u001b[1;33m\u001b[0m\u001b[0m\n\u001b[0;32m     55\u001b[0m         \u001b[1;32mprint\u001b[0m \u001b[0mshape\u001b[0m\u001b[1;33m(\u001b[0m\u001b[0mpoly\u001b[0m\u001b[1;33m.\u001b[0m\u001b[0mreshape\u001b[0m\u001b[1;33m(\u001b[0m\u001b[1;36m1\u001b[0m\u001b[1;33m,\u001b[0m\u001b[0mpoly\u001b[0m\u001b[1;33m.\u001b[0m\u001b[0mshape\u001b[0m\u001b[1;33m[\u001b[0m\u001b[1;36m0\u001b[0m\u001b[1;33m]\u001b[0m\u001b[1;33m)\u001b[0m\u001b[1;33m)\u001b[0m\u001b[1;33m\u001b[0m\u001b[0m\n\u001b[1;32m---> 56\u001b[1;33m         \u001b[0mpol\u001b[0m \u001b[1;33m=\u001b[0m \u001b[0mnp\u001b[0m\u001b[1;33m.\u001b[0m\u001b[0mpolynomial\u001b[0m\u001b[1;33m.\u001b[0m\u001b[0mPolynomial\u001b[0m\u001b[1;33m(\u001b[0m\u001b[0mpoly\u001b[0m\u001b[1;33m.\u001b[0m\u001b[0mreshape\u001b[0m\u001b[1;33m(\u001b[0m\u001b[1;36m1\u001b[0m\u001b[1;33m,\u001b[0m\u001b[0mpoly\u001b[0m\u001b[1;33m.\u001b[0m\u001b[0mshape\u001b[0m\u001b[1;33m[\u001b[0m\u001b[1;36m0\u001b[0m\u001b[1;33m]\u001b[0m\u001b[1;33m)\u001b[0m\u001b[1;33m)\u001b[0m\u001b[1;33m\u001b[0m\u001b[0m\n\u001b[0m\u001b[0;32m     57\u001b[0m         \u001b[1;32mprint\u001b[0m \u001b[1;34m\"pol: \"\u001b[0m\u001b[1;33m,\u001b[0m \u001b[0mpol\u001b[0m\u001b[1;33m\u001b[0m\u001b[0m\n\u001b[0;32m     58\u001b[0m         \u001b[1;31m#plt.plot(x, pol(x), 'r')\u001b[0m\u001b[1;33m\u001b[0m\u001b[1;33m\u001b[0m\u001b[0m\n",
        "\u001b[1;32mC:\\Anaconda\\lib\\site-packages\\numpy\\polynomial\\polynomial.pyc\u001b[0m in \u001b[0;36m__init__\u001b[1;34m(self, coef, domain, window)\u001b[0m\n",
        "\u001b[1;32mC:\\Anaconda\\lib\\site-packages\\numpy\\polynomial\\polyutils.pyc\u001b[0m in \u001b[0;36mas_series\u001b[1;34m(alist, trim)\u001b[0m\n\u001b[0;32m    158\u001b[0m         \u001b[1;32mraise\u001b[0m \u001b[0mValueError\u001b[0m\u001b[1;33m(\u001b[0m\u001b[1;34m\"Coefficient array is empty\"\u001b[0m\u001b[1;33m)\u001b[0m\u001b[1;33m\u001b[0m\u001b[0m\n\u001b[0;32m    159\u001b[0m     \u001b[1;32mif\u001b[0m \u001b[0many\u001b[0m\u001b[1;33m(\u001b[0m\u001b[1;33m[\u001b[0m\u001b[0ma\u001b[0m\u001b[1;33m.\u001b[0m\u001b[0mndim\u001b[0m \u001b[1;33m!=\u001b[0m \u001b[1;36m1\u001b[0m \u001b[1;32mfor\u001b[0m \u001b[0ma\u001b[0m \u001b[1;32min\u001b[0m \u001b[0marrays\u001b[0m\u001b[1;33m]\u001b[0m\u001b[1;33m)\u001b[0m \u001b[1;33m:\u001b[0m\u001b[1;33m\u001b[0m\u001b[0m\n\u001b[1;32m--> 160\u001b[1;33m         \u001b[1;32mraise\u001b[0m \u001b[0mValueError\u001b[0m\u001b[1;33m(\u001b[0m\u001b[1;34m\"Coefficient array is not 1-d\"\u001b[0m\u001b[1;33m)\u001b[0m\u001b[1;33m\u001b[0m\u001b[0m\n\u001b[0m\u001b[0;32m    161\u001b[0m     \u001b[1;32mif\u001b[0m \u001b[0mtrim\u001b[0m \u001b[1;33m:\u001b[0m\u001b[1;33m\u001b[0m\u001b[0m\n\u001b[0;32m    162\u001b[0m         \u001b[0marrays\u001b[0m \u001b[1;33m=\u001b[0m \u001b[1;33m[\u001b[0m\u001b[0mtrimseq\u001b[0m\u001b[1;33m(\u001b[0m\u001b[0ma\u001b[0m\u001b[1;33m)\u001b[0m \u001b[1;32mfor\u001b[0m \u001b[0ma\u001b[0m \u001b[1;32min\u001b[0m \u001b[0marrays\u001b[0m\u001b[1;33m]\u001b[0m\u001b[1;33m\u001b[0m\u001b[0m\n",
        "\u001b[1;31mValueError\u001b[0m: Coefficient array is not 1-d"
       ]
      },
      {
       "output_type": "stream",
       "stream": "stdout",
       "text": [
        "poly:  [[-0.08343068]]\n",
        "<type 'numpy.ndarray'>\n",
        "(1L, 1L)\n"
       ]
      },
      {
       "metadata": {},
       "output_type": "display_data",
       "png": "[encoded data removed]",
       "text": [
        "<matplotlib.figure.Figure at 0x842c898>"
       ]
      }
     ],
     "prompt_number": 66
    },
    {
     "cell_type": "code",
     "collapsed": false,
     "input": [
      "#data = gen_sinusoidal(9)\n",
      "#print data"
     ],
     "language": "python",
     "metadata": {},
     "outputs": [],
     "prompt_number": 18
    },
    {
     "cell_type": "code",
     "collapsed": false,
     "input": [
      "%pylab inline\n",
      "import numpy as np\n",
      "# data to fit\n",
      "x = [0.0,1.0,2,3,4,5]\n",
      "y = [0,0.8,0.9,0.1,-0.8,-1]\n",
      "\n",
      "def fit_polynomial_reg(x,t,M,lamb):\n",
      "    w=[]\n",
      "    y=[]\n",
      "    for i in range(0,M+1):\n",
      "        w.append([])\n",
      "        if(i==0):\n",
      "            y.append([])\n",
      "        for j in range (0,M+1):\n",
      "            w[i].append(j)\n",
      "            if(i==0):\n",
      "                y[i].append(j)\n",
      "            w[i][j]=0\n",
      "            if(i==0):\n",
      "                y[0][j]=0\n",
      "            for k in range(0,len(x)):\n",
      "                w[i][j]+=pow(x[k],i+j)\n",
      "                if(i==0):\n",
      "                    y[i][j] += t[k]*pow(x[k],j)\n",
      "    #print w\n",
      "    #print y\n",
      "    a=linalg.inv(w)\n",
      "    identity_Matrix = np.identity(M+1)\n",
      "    identity_Matrix[0][0] = 0\n",
      "    #print identity_Matrix\n",
      "    #print a\n",
      "    a += dot(lamb,a)\n",
      "    #print a\n",
      "    #b=transpose(y)\n",
      "    result = dot(a,transpose(y))\n",
      "    return result\n",
      "    \n",
      "fit_polynomial_reg(x,y,3,1)"
     ],
     "language": "python",
     "metadata": {},
     "outputs": [
      {
       "output_type": "stream",
       "stream": "stdout",
       "text": [
        "Populating the interactive namespace from numpy and matplotlib\n"
       ]
      },
      {
       "metadata": {},
       "output_type": "pyout",
       "prompt_number": 27,
       "text": [
        "array([[-0.07936508],\n",
        "       [ 3.38624339],\n",
        "       [-1.62698413],\n",
        "       [ 0.17407407]])"
       ]
      }
     ],
     "prompt_number": 27
    },
    {
     "cell_type": "code",
     "collapsed": false,
     "input": [
      "%pylab inline\n",
      "import numpy as np\n",
      "def kfold_indices(N,k):\n",
      "    all_indices = np.arange(N,dtype=int)\n",
      "    np.random.shuffle(all_indices)\n",
      "    idx = np.floor(np.linspace(0,N,k+1))\n",
      "    train_folds = []\n",
      "    valid_folds = []\n",
      "    for fold in range(k):\n",
      "        valid_indices = all_indices[idx[fold]:idx[fold+1]]\n",
      "        valid_folds.append(valid_indices)\n",
      "        train_folds.append(np.setdiff1d(all_indices, valid_indices)) #appends an array of idk - valid_folds to train_folds\n",
      "    return train_folds, valid_folds\n",
      "\n",
      "#function loops over dimensions and lambdas in order to do a cross validation for each combination and returns its (???mean square???) error\n",
      "def prediction_error()\n",
      "    M = np.arange(11,dtype=int)\n",
      "    print M\n",
      "    lamb = np.arange(math.exp(0),math.exp(-1))\n",
      "    print lamb\n",
      "    \n",
      "    #Xdata\n",
      "    #Ydata\n",
      "    \n",
      "    for i in range(0,M):\n",
      "        \n",
      "    \n",
      "\n",
      "\n",
      "kfold_indices(9,9)"
     ],
     "language": "python",
     "metadata": {},
     "outputs": [
      {
       "output_type": "stream",
       "stream": "stdout",
       "text": [
        "Populating the interactive namespace from numpy and matplotlib\n"
       ]
      },
      {
       "metadata": {},
       "output_type": "pyout",
       "prompt_number": 37,
       "text": [
        "([array([0, 2, 3, 4, 5, 6, 7, 8]),\n",
        "  array([0, 1, 2, 3, 5, 6, 7, 8]),\n",
        "  array([0, 1, 2, 3, 4, 5, 6, 7]),\n",
        "  array([0, 1, 2, 3, 4, 5, 6, 8]),\n",
        "  array([1, 2, 3, 4, 5, 6, 7, 8]),\n",
        "  array([0, 1, 2, 3, 4, 6, 7, 8]),\n",
        "  array([0, 1, 2, 3, 4, 5, 7, 8]),\n",
        "  array([0, 1, 3, 4, 5, 6, 7, 8]),\n",
        "  array([0, 1, 2, 4, 5, 6, 7, 8])],\n",
        " [array([1]),\n",
        "  array([4]),\n",
        "  array([8]),\n",
        "  array([7]),\n",
        "  array([0]),\n",
        "  array([5]),\n",
        "  array([6]),\n",
        "  array([2]),\n",
        "  array([3])])"
       ]
      }
     ],
     "prompt_number": 37
    },
    {
     "cell_type": "code",
     "collapsed": false,
     "input": [],
     "language": "python",
     "metadata": {},
     "outputs": []
    }
   ],
   "metadata": {}
  }
 ]
}