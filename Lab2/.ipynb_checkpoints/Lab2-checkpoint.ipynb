{
 "metadata": {
  "name": ""
 },
 "nbformat": 3,
 "nbformat_minor": 0,
 "worksheets": [
  {
   "cells": [
    {
     "cell_type": "markdown",
     "metadata": {},
     "source": [
      "For \n",
      "$$ j=t^{(i)} : \\delta_j^q = \\frac{\\partial \\mathcal{L}^{(i)}}{\\partial \\log p_j} \\frac{\\partial \\log p_j}{\\partial \\log q_j} + \\frac{\\partial \\mathcal{L}^{(i)}}{\\partial \\log Z} \\frac{\\partial \\log Z}{\\partial Z} \\frac{\\partial Z}{\\partial \\log q_j} = 1 \\cdot 1 - \\frac{\\partial logZ}{\\partial Z} \\frac{\\partial Z}{\\partial \\log q_j} = 1 - \\frac{partial \\log Z}{\\partial Z}$$\n",
      "\n",
      "$$ \\frac{\\partial Z}{\\partial \\log q_j}  = exp(\\log q_i) $$"
     ]
    },
    {
     "cell_type": "heading",
     "level": 3,
     "metadata": {},
     "source": [
      "Equations here"
     ]
    },
    {
     "cell_type": "code",
     "collapsed": false,
     "input": [
      "%pylab inline\n",
      "import gzip, cPickle\n",
      "\n",
      "def load_mnist():\n",
      "\tf = gzip.open('mnist.pkl.gz', 'rb')\n",
      "\tdata = cPickle.load(f)\n",
      "\tf.close()\n",
      "\treturn data\n",
      "\n",
      "def plot_digits(data, numcols, shape=(28,28)):\n",
      "    numdigits = data.shape[0]\n",
      "    numrows = int(numdigits/numcols)\n",
      "    for i in range(numdigits):\n",
      "        plt.subplot(numrows, numcols, i)\n",
      "        plt.axis('off')\n",
      "        plt.imshow(data[i].reshape(shape), interpolation='nearest', cmap='Greys')\n",
      "    plt.show()\n",
      "\n",
      "(x_train, t_train), (x_valid, t_valid), (x_test, t_test) = load_mnist()\n",
      "plot_digits(x_train[0:8], numcols=4)\n",
      "print x_train[0]"
     ],
     "language": "python",
     "metadata": {},
     "outputs": []
    },
    {
     "cell_type": "heading",
     "level": 2,
     "metadata": {},
     "source": [
      "1.1.2 Implement gradient computations"
     ]
    },
    {
     "cell_type": "code",
     "collapsed": false,
     "input": [
      "import numpy as np\n",
      "# Write a function logreg_gradient(x,t,w,b) that returns the gradient \n",
      "# with respect to the parameters w and b)\n",
      "# of the log-likelihood for a single datapoint (x,t)\n",
      "def logreg_gradient(x,t,w,b):\n",
      "    log_Q = []\n",
      "    Z = 0.0\n",
      "    log_P = []\n",
      "    partial_derivative_logLikelihood_b = []\n",
      "    # log_Q -> Z -> log_P -> delta\n",
      "    # 10 different classes\n",
      "    for j in range(0,10):\n",
      "        # log_Q = the unnormalized probability of the class j\n",
      "        log_Q[j] = np.dot(np.transpose(w[j]),x) + b[j]\n",
      "    for k in range(0,10):\n",
      "        # Z = normalizing factor\n",
      "        Z += math.exp(log_Q[k])\n",
      "    for j in range(0,10):\n",
      "        # log_P = networs output; contains conditional log probabilities for each digit class j\n",
      "        log_P[j] = log_Q[j] - math.log1p(Z)\n",
      "    for j in range(0,10):\n",
      "        # partial_derivative_logLikelihood_b = derivative of log(Z) w.r.t. Z * derivative of Z w.r.t. log_Q\n",
      "        partial_derivative_logLikelihood_b[j] = 1/Z * (math.exp(log_Q[j])\n",
      "        # partial_derivative_logLikelihood_W = partial_derivative_logLikelihood_b * derivative of log(q) w.r.t. w\n",
      "        partial_derivative_logLikelihood_W[j] = np.dot(partial_derivative_logLikelihood_b,x)\n",
      "    return partial_derivative_logLikelihood_W, partial_derivative_logLikelihood_b\n",
      "    "
     ],
     "language": "python",
     "metadata": {},
     "outputs": [
      {
       "ename": "SyntaxError",
       "evalue": "invalid syntax (<ipython-input-5-4cbcf871a460>, line 25)",
       "output_type": "pyerr",
       "traceback": [
        "\u001b[1;36m  File \u001b[1;32m\"<ipython-input-5-4cbcf871a460>\"\u001b[1;36m, line \u001b[1;32m25\u001b[0m\n\u001b[1;33m    partial_derivative_logLikelihood_W[j] = np.dot(partial_derivative_logLikelihood_b,x)\u001b[0m\n\u001b[1;37m                                     ^\u001b[0m\n\u001b[1;31mSyntaxError\u001b[0m\u001b[1;31m:\u001b[0m invalid syntax\n"
       ]
      }
     ],
     "prompt_number": 5
    },
    {
     "cell_type": "code",
     "collapsed": false,
     "input": [],
     "language": "python",
     "metadata": {},
     "outputs": []
    }
   ],
   "metadata": {}
  }
 ]
}