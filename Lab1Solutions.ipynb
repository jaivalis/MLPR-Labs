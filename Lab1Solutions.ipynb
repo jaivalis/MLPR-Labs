{
 "metadata": {
  "name": ""
 },
 "nbformat": 3,
 "nbformat_minor": 0,
 "worksheets": [
  {
   "cells": [
    {
     "cell_type": "heading",
     "level": 1,
     "metadata": {},
     "source": [
      "Lab 1A: Linear Regression and Overfitting"
     ]
    },
    {
     "cell_type": "heading",
     "level": 2,
     "metadata": {},
     "source": [
      "Part 1: Polynomial Regression"
     ]
    },
    {
     "cell_type": "heading",
     "level": 3,
     "metadata": {},
     "source": [
      "1.1. Generate sinusoidal data"
     ]
    },
    {
     "cell_type": "code",
     "collapsed": false,
     "input": [
      "%pylab inline\n",
      "def gen_sinusoidal(N):\n",
      "    for i in linspace (0, 2*pi, N):\n",
      "        plot(i, sin(i) + random.normal(-0.1, 0.1), 'o')\n",
      "        \n",
      "    x = linspace (0,2*pi)\n",
      "    plot(x, sin(x))\n",
      "    \n",
      "gen_sinusoidal(10)"
     ],
     "language": "python",
     "metadata": {},
     "outputs": [
      {
       "output_type": "stream",
       "stream": "stdout",
       "text": [
        "\n",
        "Welcome to pylab, a matplotlib-based Python environment [backend: module://IPython.zmq.pylab.backend_inline].\n",
        "For more information, type 'help(pylab)'.\n"
       ]
      },
      {
       "output_type": "display_data",
       "png": "[encoded data removed]"
      }
     ],
     "prompt_number": 6
    },
    {
     "cell_type": "heading",
     "level": 3,
     "metadata": {},
     "source": [
      "Task 1.2 Polynomial Regression"
     ]
    },
    {
     "cell_type": "code",
     "collapsed": false,
     "input": [
      "%pylab inline\n",
      "import numpy as np\n",
      "# data to fit\n",
      "x = [0.0,1.0,2,3,4,5]\n",
      "y = [0,0.8,0.9,0.1,-0.8,-1]\n",
      "\n",
      "def fit_polynomial(x,t,M):\n",
      "    w=[]\n",
      "    y=[]\n",
      "    for i in range(0,M+1):\n",
      "        w.append([])\n",
      "        if(i==0):\n",
      "            y.append([])\n",
      "        for j in range (0,M+1):\n",
      "            w[i].append(j)\n",
      "            if(i==0):\n",
      "                y[i].append(j)\n",
      "            w[i][j]=0\n",
      "            if(i==0):\n",
      "                y[0][j]=0\n",
      "            for k in range(0,len(x)):\n",
      "                w[i][j]+=pow(x[k],i+j)\n",
      "                if(i==0):\n",
      "                    y[i][j] += t[k]*pow(x[k],j)\n",
      "    #print w\n",
      "    #print y\n",
      "    a=linalg.inv(w)\n",
      "    #print a\n",
      "    #b=transpose(y)\n",
      "    result = dot(a,transpose(y))\n",
      "    return result\n",
      "    \n",
      "print fit_polynomial(x,y,3)"
     ],
     "language": "python",
     "metadata": {},
     "outputs": [
      {
       "output_type": "stream",
       "stream": "stdout",
       "text": [
        "Populating the interactive namespace from numpy and matplotlib\n",
        "[[-0.03968254]\n",
        " [ 1.69312169]\n",
        " [-0.81349206]\n",
        " [ 0.08703704]]\n"
       ]
      }
     ],
     "prompt_number": 2
    },
    {
     "cell_type": "heading",
     "level": 3,
     "metadata": {},
     "source": [
      "Task 1.3 Plot"
     ]
    },
    {
     "cell_type": "code",
     "collapsed": false,
     "input": [
      "import matplotlib.pyplot as plt\n",
      "import numpy as np\n",
      "def fit_polynomial(x,t,M):\n",
      "    w=[]\n",
      "    y=[]\n",
      "    for i in range(0,M+1):\n",
      "        w.append([])\n",
      "        if(i==0):\n",
      "            y.append([])\n",
      "        for j in range (0,M+1):\n",
      "            w[i].append(j)\n",
      "            if(i==0):\n",
      "                y[i].append(j)\n",
      "            w[i][j]=0\n",
      "            if(i==0):\n",
      "                y[0][j]=0\n",
      "            for k in range(0,len(x)):\n",
      "                w[i][j]+=pow(x[k],i+j)\n",
      "                if(i==0):\n",
      "                    y[i][j] += t[k]*pow(x[k],j)\n",
      "    a=linalg.inv(w)\n",
      "    result = dot(a,transpose(y))\n",
      "    return result\n",
      "\n",
      "def generateSampleDataSet(N):\n",
      "    x = np.linspace(0, 2*np.pi, N) \n",
      "    retx = []\n",
      "    rety = []\n",
      "    for i in x:\n",
      "        retx.append(i)\n",
      "        rety.append(np.sin(i) + np.random.normal(-0.1, 0.1))\n",
      "    retx = np.array([retx])\n",
      "    rety = np.array([rety])\n",
      "    return np.concatenate((retx, rety), axis = 0)\n",
      "\n",
      "def fit_polynominals() :\n",
      "    x = np.linspace(0,2 * np.pi)\n",
      "    pol = []\n",
      "    M = [0, 1, 3, 8]\n",
      "    sampleData = generateSampleDataSet(9)\n",
      "    sampleX = sampleData[0]\n",
      "    sampleY = sampleData[1]\n",
      "    \n",
      "    fig = plt.figure()\n",
      "    subplot = 1\n",
      "    for m in M:    \n",
      "        fig.add_subplot(2,2,subplot)\n",
      "        plt.plot(x, np.sin(x))\n",
      "        for i in range (0, np.size(sampleX)):\n",
      "            plt.plot(sampleX[i], sampleY[i], 'o')\n",
      "        poly = fit_polynomial(sampleX, sampleY, m)\n",
      "        pol = np.polynomial.Polynomial(poly.reshape(1,poly.shape[0])[0])\n",
      "        plt.plot(x, pol(x), 'r')\n",
      "        subplot = subplot + 1\n",
      "    plt.show()\n",
      "    \n",
      "fit_polynominals()"
     ],
     "language": "python",
     "metadata": {},
     "outputs": [
      {
       "output_type": "display_data",
       "png": "[encoded data removed]"
      }
     ],
     "prompt_number": 4
    },
    {
     "cell_type": "heading",
     "level": 3,
     "metadata": {},
     "source": [
      "1.4 Reguralized linear Regression"
     ]
    },
    {
     "cell_type": "code",
     "collapsed": false,
     "input": [
      "%pylab inline\n",
      "import numpy as np\n",
      "import matplotlib.pyplot as plt\n",
      "\n",
      "def fit_polynomial_reg(x,t,M,lamb):\n",
      "    w=[]\n",
      "    y=[]\n",
      "    for i in range(0,M+1):\n",
      "        w.append([])\n",
      "        if(i==0):\n",
      "            y.append([])\n",
      "        for j in range (0,M+1):\n",
      "            w[i].append(j)\n",
      "            if(i==0):\n",
      "                y[i].append(j)\n",
      "            w[i][j]=0\n",
      "            if(i==0):\n",
      "                y[0][j]=0\n",
      "            for k in range(0,len(x)):\n",
      "                w[i][j]+=pow(x[k],i+j)\n",
      "                if(i==0):\n",
      "                    y[i][j] += t[k]*pow(x[k],j)\n",
      "    a=linalg.inv(w)\n",
      "    identity_Matrix = np.identity(M+1)\n",
      "    identity_Matrix[0][0] = 0\n",
      "    a += dot(lamb,a)\n",
      "    result = dot(a,transpose(y))\n",
      "    return result"
     ],
     "language": "python",
     "metadata": {},
     "outputs": [
      {
       "output_type": "stream",
       "stream": "stdout",
       "text": [
        "Populating the interactive namespace from numpy and matplotlib\n"
       ]
      }
     ],
     "prompt_number": 82
    },
    {
     "cell_type": "heading",
     "level": 3,
     "metadata": {},
     "source": [
      "1.5 Model selection by cross validation"
     ]
    },
    {
     "cell_type": "code",
     "collapsed": false,
     "input": [
      "import numpy as np\n",
      "\n",
      "def generateSampleDataSet(N):\n",
      "    x = np.linspace(0,2*np.pi, N) \n",
      "    retx = []\n",
      "    rety = []\n",
      "    for i in x:\n",
      "        retx.append(i)\n",
      "        rety.append(np.sin(i) + np.random.normal(-0.1, 0.1))\n",
      "    retx = np.array([retx])\n",
      "    rety = np.array([rety])\n",
      "    return np.concatenate((retx, rety), axis = 0)\n",
      "\n",
      "def kfold_indices(N,k):\n",
      "    all_indices = np.arange(N,dtype=int)\n",
      "    np.random.shuffle(all_indices)\n",
      "    idx = np.floor(np.linspace(0,N,k+1))\n",
      "    train_folds = []\n",
      "    valid_folds = []\n",
      "    for fold in range(k):\n",
      "        valid_indices = all_indices[idx[fold]:idx[fold+1]]\n",
      "        valid_folds.append(valid_indices)\n",
      "        train_folds.append(np.setdiff1d(all_indices, valid_indices)) #appends an array of idk - valid_folds to train_folds\n",
      "    return train_folds, valid_folds\n",
      "\n",
      "def fit_polynomial_reg(x,t,M,lamb):\n",
      "    w=[]\n",
      "    y=[]\n",
      "    for i in range(0,M+1):\n",
      "        w.append([])\n",
      "        if(i==0):\n",
      "            y.append([])\n",
      "        for j in range (0,M+1):\n",
      "            w[i].append(j)\n",
      "            if(i==0):\n",
      "                y[i].append(j)\n",
      "            w[i][j]=0\n",
      "            if(i==0):\n",
      "                y[0][j]=0\n",
      "            for k in range(0,len(x)):\n",
      "                w[i][j]+=pow(x[k],i+j)\n",
      "                if(i==0):\n",
      "                    y[i][j] += t[k]*pow(x[k],j)\n",
      "    a=linalg.inv(w)\n",
      "    identity_Matrix = np.identity(M+1)\n",
      "    identity_Matrix[0][0] = 0\n",
      "    a += dot(lamb,a)\n",
      "    result = dot(a,transpose(y))\n",
      "    return result\n",
      "        \n",
      "#evaluate all models with different M and lamb with given data\n",
      "def model_evaluation(dataX,dataY):\n",
      "        models = []\n",
      "        indices = kfold_indices(9,9)\n",
      "        error = 0\n",
      "        lamb = []\n",
      "        for i in range(0,11):\n",
      "            lamb.append(math.exp(i-10))\n",
      "        #loop over 10 different M\n",
      "        for i in range(0,11):\n",
      "            models.append([])\n",
      "            #loop over 10 different lamb\n",
      "            for j in lamb:\n",
      "                models[i].append([])\n",
      "                #reset error to zero\n",
      "                error = 0\n",
      "                #loop over 9 folds\n",
      "                for k in range(0,8):\n",
      "                    for l in range(0,8):\n",
      "                        #create train_fold\n",
      "                        train_foldX = dataX[indices[0][l]]\n",
      "                        train_foldY = dataY[indices[0][l]]\n",
      "                    #fit polynomial for train_folds\n",
      "                    poly = fit_polynomial_reg(train_foldX,train_foldY,i,j)\n",
      "                    #sum calculated prediction error\n",
      "                    error += (dataY[k] - np.polyval(poly,dataX[k]))**2\n",
      "                #update models with error for M and lamb\n",
      "                models[i][10-int(-1*math.log(j))] = error/8\n",
      "        return models\n",
      "\n",
      "sampleData = generateSampleDataSet(9)\n",
      "model_evaluation(sampleData[0],sampleData[1])"
     ],
     "language": "python",
     "metadata": {},
     "outputs": [
      {
       "metadata": {},
       "output_type": "pyout",
       "prompt_number": 142,
       "text": [
        "[[array([ 0.53253137]),\n",
        "  array([ 0.53253137]),\n",
        "  array([ 0.53253138]),\n",
        "  array([ 0.53253139]),\n",
        "  array([ 0.53253149]),\n",
        "  array([ 0.53253219]),\n",
        "  array([ 0.53253744]),\n",
        "  array([ 0.53257616]),\n",
        "  array([ 0.53286232]),\n",
        "  array([ 0.53497671]),\n",
        "  array([ 0.55060013])],\n",
        " [array([ 7.48116254]),\n",
        "  array([ 7.48208441]),\n",
        "  array([ 7.48459062]),\n",
        "  array([ 7.49140544]),\n",
        "  array([ 7.50994644]),\n",
        "  array([ 7.56046736]),\n",
        "  array([ 7.69869344]),\n",
        "  array([ 8.08105126]),\n",
        "  array([ 9.16932594]),\n",
        "  array([ 12.48902387]),\n",
        "  array([ 24.18375135])],\n",
        " [array([ 56.49331307]),\n",
        "  array([ 56.50147551]),\n",
        "  array([ 56.52366633]),\n",
        "  array([ 56.58400936]),\n",
        "  array([ 56.74820223]),\n",
        "  array([ 57.19573287]),\n",
        "  array([ 58.42117429]),\n",
        "  array([ 61.81823186]),\n",
        "  array([ 71.5397916]),\n",
        "  array([ 101.56715583]),\n",
        "  array([ 209.80112614])],\n",
        " [array([ 473.77806092]),\n",
        "  array([ 473.85014772]),\n",
        "  array([ 474.0461277]),\n",
        "  array([ 474.57906141]),\n",
        "  array([ 476.02923935]),\n",
        "  array([ 479.9824183]),\n",
        "  array([ 490.81093111]),\n",
        "  array([ 520.85664756]),\n",
        "  array([ 607.04236321]),\n",
        "  array([ 874.66616862]),\n",
        "  array([ 1848.54403336])],\n",
        " [array([ 8309.66577786]),\n",
        "  array([ 8310.95477301]),\n",
        "  array([ 8314.4591303]),\n",
        "  array([ 8323.98869411]),\n",
        "  array([ 8349.92031808]),\n",
        "  array([ 8420.61359878]),\n",
        "  array([ 8614.28388522]),\n",
        "  array([ 9151.86241707]),\n",
        "  array([ 10695.37861172]),\n",
        "  array([ 15498.66493691]),\n",
        "  array([ 33044.75146844])],\n",
        " [array([ 196499.95553657]),\n",
        "  array([ 196530.57866423]),\n",
        "  array([ 196613.83301453]),\n",
        "  array([ 196840.23090033]),\n",
        "  array([ 197456.30251111]),\n",
        "  array([ 199135.82337635]),\n",
        "  array([ 203737.17922828]),\n",
        "  array([ 216510.5593987]),\n",
        "  array([ 253194.72639914]),\n",
        "  array([ 367413.79980642]),\n",
        "  array([ 785043.38170876])],\n",
        " [array([ 8716458.37056619]),\n",
        "  array([ 8717818.08432758]),\n",
        "  array([ 8721514.70556568]),\n",
        "  array([ 8731567.12371911]),\n",
        "  array([ 8758921.68977542]),\n",
        "  array([ 8833495.31324663]),\n",
        "  array([ 9037804.98649808]),\n",
        "  array([ 9604980.62610048]),\n",
        "  array([ 11233946.9902287]),\n",
        "  array([ 16306433.25876453]),\n",
        "  array([ 34857102.047222])],\n",
        " [array([ 364487.66698608]),\n",
        "  array([ 364544.55963021]),\n",
        "  array([ 364699.2268336]),\n",
        "  array([ 365119.82067052]),\n",
        "  array([ 366264.34859286]),\n",
        "  array([ 369384.53803612]),\n",
        "  array([ 377932.96928278]),\n",
        "  array([ 401664.2123618]),\n",
        "  array([ 469823.96951514]),\n",
        "  array([ 682082.9961142]),\n",
        "  array([ 1458431.36024875])],\n",
        " [array([  6.99233941e+10]),\n",
        "  array([  6.99328549e+10]),\n",
        "  array([  6.99643407e+10]),\n",
        "  array([  7.00408188e+10]),\n",
        "  array([  7.02596617e+10]),\n",
        "  array([  7.08545079e+10]),\n",
        "  array([  7.24958616e+10]),\n",
        "  array([  7.70464954e+10]),\n",
        "  array([  9.01195591e+10]),\n",
        "  array([  1.30818705e+11]),\n",
        "  array([  2.79661141e+11])],\n",
        " [array([  5.07000032e+14]),\n",
        "  array([  5.07075421e+14]),\n",
        "  array([  5.07285614e+14]),\n",
        "  array([  5.07877110e+14]),\n",
        "  array([  5.09462100e+14]),\n",
        "  array([  5.13807569e+14]),\n",
        "  array([  5.25698261e+14]),\n",
        "  array([  5.58683927e+14]),\n",
        "  array([  6.53456091e+14]),\n",
        "  array([  9.48572176e+14]),\n",
        "  array([  2.02783879e+15])],\n",
        " [array([  7.28474931e+15]),\n",
        "  array([  7.28590233e+15]),\n",
        "  array([  7.28903412e+15]),\n",
        "  array([  7.29748836e+15]),\n",
        "  array([  7.32024503e+15]),\n",
        "  array([  7.38267368e+15]),\n",
        "  array([  7.55341436e+15]),\n",
        "  array([  8.02746864e+15]),\n",
        "  array([  9.38919376e+15]),\n",
        "  array([  1.36291662e+16]),\n",
        "  array([  2.91366254e+16])]]"
       ]
      }
     ],
     "prompt_number": 142
    },
    {
     "cell_type": "heading",
     "level": 1,
     "metadata": {},
     "source": [
      "Part 2: Bayesian Linear (Polynomial) Regression\n"
     ]
    },
    {
     "cell_type": "heading",
     "level": 3,
     "metadata": {},
     "source": [
      "2.1 Sinusoidal data 2 "
     ]
    },
    {
     "cell_type": "code",
     "collapsed": false,
     "input": [
      "%pylab inline\n",
      "\n",
      "def gen_sinusoidal2(N):    \n",
      "    for i in linspace (0, 2*pi, N):\n",
      "        plot(i + random.uniform(-0.1, 0.1), sin(i)+ random.normal(-0.1, 0.1), 'o')\n",
      "    \n",
      "    x = linspace (0,2*pi)\n",
      "    plot(x, sin(x))\n",
      "    \n",
      "gen_sinusoidal2(10)\n"
     ],
     "language": "python",
     "metadata": {},
     "outputs": [
      {
       "output_type": "stream",
       "stream": "stdout",
       "text": [
        "\n",
        "Welcome to pylab, a matplotlib-based Python environment [backend: module://IPython.zmq.pylab.backend_inline].\n",
        "For more information, type 'help(pylab)'.\n"
       ]
      },
      {
       "output_type": "display_data",
       "png": "[encoded data removed]"
      }
     ],
     "prompt_number": 7
    },
    {
     "cell_type": "heading",
     "level": 3,
     "metadata": {},
     "source": [
      "2.2 Compute Posterior"
     ]
    },
    {
     "cell_type": "code",
     "collapsed": false,
     "input": [],
     "language": "python",
     "metadata": {},
     "outputs": [],
     "prompt_number": 7
    },
    {
     "cell_type": "heading",
     "level": 3,
     "metadata": {},
     "source": [
      "2.3 Prediction"
     ]
    },
    {
     "cell_type": "code",
     "collapsed": false,
     "input": [],
     "language": "python",
     "metadata": {},
     "outputs": [],
     "prompt_number": 7
    },
    {
     "cell_type": "heading",
     "level": 3,
     "metadata": {},
     "source": [
      "2.4 Prot predictive distribution"
     ]
    },
    {
     "cell_type": "code",
     "collapsed": false,
     "input": [],
     "language": "python",
     "metadata": {},
     "outputs": [],
     "prompt_number": 7
    },
    {
     "cell_type": "heading",
     "level": 3,
     "metadata": {},
     "source": [
      "2.5 Additional questions"
     ]
    },
    {
     "cell_type": "code",
     "collapsed": false,
     "input": [],
     "language": "python",
     "metadata": {},
     "outputs": []
    }
   ],
   "metadata": {}
  }
 ]
}