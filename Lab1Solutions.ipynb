{
 "metadata": {
  "name": "Lab1Solutions"
 },
 "nbformat": 3,
 "nbformat_minor": 0,
 "worksheets": [
  {
   "cells": [
    {
     "cell_type": "heading",
     "level": 1,
     "metadata": {},
     "source": [
      "Lab 1A: Linear Regression and Overfitting"
     ]
    },
    {
     "cell_type": "heading",
     "level": 2,
     "metadata": {},
     "source": [
      "Part 1: Polynomial Regression"
     ]
    },
    {
     "cell_type": "heading",
     "level": 3,
     "metadata": {},
     "source": [
      "1.1. Generate sinusoidal data"
     ]
    },
    {
     "cell_type": "code",
     "collapsed": false,
     "input": [
      "%pylab inline\n",
      "def gen_sinusoidal(N):\n",
      "    for i in linspace (0, 2*pi, N):\n",
      "        plot(i, sin(i) + random.normal(-0.1, 0.1), 'o')\n",
      "        \n",
      "    x = linspace (0,2*pi)\n",
      "    plot(x, sin(x))\n",
      "    \n",
      "gen_sinusoidal(10)"
     ],
     "language": "python",
     "metadata": {},
     "outputs": [
      {
       "output_type": "stream",
       "stream": "stdout",
       "text": [
        "\n",
        "Welcome to pylab, a matplotlib-based Python environment [backend: module://IPython.zmq.pylab.backend_inline].\n",
        "For more information, type 'help(pylab)'.\n"
       ]
      },
      {
       "output_type": "display_data",
       "png": "[encoded data removed]"
      }
     ],
     "prompt_number": 6
    },
    {
     "cell_type": "heading",
     "level": 3,
     "metadata": {},
     "source": [
      "Task 1.2 Polynomial Regression"
     ]
    },
    {
     "cell_type": "code",
     "collapsed": false,
     "input": [
      "%pylab inline\n",
      "import numpy as np\n",
      "# data to fit\n",
      "x = [0.0,1.0,2,3,4,5]\n",
      "y = [0,0.8,0.9,0.1,-0.8,-1]\n",
      "\n",
      "def fit_polynomial(x, t, M):\n",
      "    w=[]\n",
      "    y=[]\n",
      "    for i in range(0, M+1):\n",
      "        w.append([])\n",
      "        if(i == 0):\n",
      "            y.append([])\n",
      "        for j in range (0, M+1):\n",
      "            w[i].append(j)\n",
      "            if(i == 0):\n",
      "                y[i].append(j)\n",
      "            w[i][j]=0\n",
      "            if(i == 0):\n",
      "                y[0][j] = 0\n",
      "            for k in range(0,len(x)):\n",
      "                w[i][j] = w[i][j] + pow(x[k],i+j)\n",
      "                if(i==0):\n",
      "                    y[i][j] = y[i][j] + t[k]*pow(x[k],j)\n",
      "    #print w\n",
      "    #print y\n",
      "    a=linalg.inv(w)\n",
      "    #print a\n",
      "    #b=transpose(y)\n",
      "    result = dot(a, transpose(y))\n",
      "    return result\n",
      "    \n",
      "print fit_polynomial(x, y, 3)"
     ],
     "language": "python",
     "metadata": {},
     "outputs": [
      {
       "output_type": "stream",
       "stream": "stdout",
       "text": [
        "Populating the interactive namespace from numpy and matplotlib\n",
        "[[-0.03968254]\n",
        " [ 1.69312169]\n",
        " [-0.81349206]\n",
        " [ 0.08703704]]\n"
       ]
      }
     ],
     "prompt_number": 2
    },
    {
     "cell_type": "heading",
     "level": 3,
     "metadata": {},
     "source": [
      "Task 1.3 Plot"
     ]
    },
    {
     "cell_type": "code",
     "collapsed": false,
     "input": [
      "import matplotlib.pyplot as plt\n",
      "import numpy as np\n",
      "def fit_polynomial(x,t,M):\n",
      "    w=[]\n",
      "    y=[]\n",
      "    for i in range(0,M+1):\n",
      "        w.append([])\n",
      "        if(i == 0):\n",
      "            y.append([])\n",
      "        for j in range (0, M+1):\n",
      "            w[i].append(j)\n",
      "            if(i == 0):\n",
      "                y[i].append(j)\n",
      "            w[i][j] = 0 \n",
      "            if(i == 0):\n",
      "                y[0][j]=0\n",
      "            for k in range(0, len(x)):\n",
      "                w[i][j] = w[i][j] + pow(x[k], i + j)\n",
      "                if(i == 0):\n",
      "                    y[i][j] = y[i][j] + t[k]*pow(x[k], j)\n",
      "    a=linalg.inv(w)\n",
      "    result = dot(a, transpose(y))\n",
      "    return result\n",
      "\n",
      "def generateSampleDataSet(N):\n",
      "    x = np.linspace(0, 2*np.pi, N) \n",
      "    retx = []\n",
      "    rety = []\n",
      "    for i in x:\n",
      "        retx.append(i)\n",
      "        rety.append(np.sin(i) + np.random.normal(-0.1, 0.1))\n",
      "    retx = np.array([retx])\n",
      "    rety = np.array([rety])\n",
      "    return np.concatenate((retx, rety), axis = 0)\n",
      "\n",
      "def fit_polynominals() :\n",
      "    x = np.linspace(0,2 * np.pi)\n",
      "    pol = []\n",
      "    M = [0, 1, 3, 8]\n",
      "    sampleData = generateSampleDataSet(9)\n",
      "    sampleX = sampleData[0]\n",
      "    sampleY = sampleData[1]\n",
      "    \n",
      "    fig = plt.figure()\n",
      "    subplot = 1\n",
      "    for m in M:    \n",
      "        fig.add_subplot(2,2,subplot)\n",
      "        plt.plot(x, np.sin(x))\n",
      "        for i in range (0, np.size(sampleX)):\n",
      "            plt.plot(sampleX[i], sampleY[i], 'o')\n",
      "        poly = fit_polynomial(sampleX, sampleY, m)\n",
      "        pol = np.polynomial.Polynomial(poly.reshape(1,poly.shape[0])[0])\n",
      "        plt.plot(x, pol(x), 'r')\n",
      "        subplot = subplot + 1\n",
      "    plt.show()\n",
      "    \n",
      "fit_polynominals()"
     ],
     "language": "python",
     "metadata": {},
     "outputs": [
      {
       "output_type": "display_data",
       "png": "[encoded data removed]"
      }
     ],
     "prompt_number": 59
    },
    {
     "cell_type": "heading",
     "level": 3,
     "metadata": {},
     "source": [
      "1.4 Reguralized linear Regression"
     ]
    },
    {
     "cell_type": "code",
     "collapsed": false,
     "input": [
      "%pylab inline\n",
      "import numpy as np\n",
      "import matplotlib.pyplot as plt\n",
      "\n",
      "def fit_polynomial_reg(x,t,M,lamb):\n",
      "    w=[]\n",
      "    y=[]\n",
      "    for i in range(0,M+1):\n",
      "        w.append([])\n",
      "        if(i==0):\n",
      "            y.append([])\n",
      "        for j in range (0,M+1):\n",
      "            w[i].append(j)\n",
      "            if(i==0):\n",
      "                y[i].append(j)\n",
      "            w[i][j]=0\n",
      "            if(i==0):\n",
      "                y[0][j]=0\n",
      "            for k in range(0,len(x)):\n",
      "                w[i][j] = w[i][j] + pow(x[k],i+j)\n",
      "                if(i==0):\n",
      "                    y[i][j] = y[i][j] + t[k]*pow(x[k],j)\n",
      "    a=linalg.inv(w)\n",
      "    identity_Matrix = np.identity(M + 1)\n",
      "    identity_Matrix[0][0] = 0\n",
      "    a = a + dot(lamb,a)\n",
      "    result = dot(a,transpose(y))\n",
      "    return result"
     ],
     "language": "python",
     "metadata": {},
     "outputs": [
      {
       "output_type": "stream",
       "stream": "stdout",
       "text": [
        "\n",
        "Welcome to pylab, a matplotlib-based Python environment [backend: module://IPython.zmq.pylab.backend_inline].\n",
        "For more information, type 'help(pylab)'.\n"
       ]
      }
     ],
     "prompt_number": 63
    },
    {
     "cell_type": "heading",
     "level": 3,
     "metadata": {},
     "source": [
      "1.5 Model selection by cross validation"
     ]
    },
    {
     "cell_type": "code",
     "collapsed": false,
     "input": [
      "import numpy as np\n",
      "\n",
      "def generateSampleDataSet(N):\n",
      "    x = np.linspace(0,2*np.pi, N) \n",
      "    retx = []\n",
      "    rety = []\n",
      "    for i in x:\n",
      "        retx.append(i)\n",
      "        rety.append(np.sin(i) + np.random.normal(-0.1, 0.1))\n",
      "    retx = np.array([retx])\n",
      "    rety = np.array([rety])\n",
      "    return np.concatenate((retx, rety), axis = 0)\n",
      "\n",
      "def kfold_indices(N,k):\n",
      "    all_indices = np.arange(N,dtype=int)\n",
      "    np.random.shuffle(all_indices)\n",
      "    idx = np.floor(np.linspace(0,N,k+1))\n",
      "    train_folds = []\n",
      "    valid_folds = []\n",
      "    for fold in range(k):\n",
      "        valid_indices = all_indices[idx[fold]:idx[fold+1]]\n",
      "        valid_folds.append(valid_indices)\n",
      "        train_folds.append(np.setdiff1d(all_indices, valid_indices)) #appends an array of idk - valid_folds to train_folds\n",
      "    return train_folds, valid_folds\n",
      "\n",
      "def fit_polynomial_reg(x,t,M,lamb):\n",
      "    w=[]\n",
      "    y=[]\n",
      "    for i in range(0,M+1):\n",
      "        w.append([])\n",
      "        if(i==0):\n",
      "            y.append([])\n",
      "        for j in range (0,M+1):\n",
      "            w[i].append(j)\n",
      "            if(i==0):\n",
      "                y[i].append(j)\n",
      "            w[i][j] = 0\n",
      "            if(i==0):\n",
      "                y[0][j] = 0\n",
      "            for k in range(0,len(x)):\n",
      "                w[i][j] = w[i][j] + pow(x[k],i+j)\n",
      "                if(i==0):\n",
      "                    y[i][j] = y[i][j] + t[k]*pow(x[k],j)\n",
      "    a=linalg.inv(w)\n",
      "    identity_Matrix = np.identity(M+1)\n",
      "    identity_Matrix[0][0] = 0\n",
      "    a = a + dot(lamb,a)\n",
      "    result = dot(a,transpose(y))\n",
      "    return result\n",
      "        \n",
      "#evaluate all models with different M and lamb with given data\n",
      "def model_evaluation(dataX,dataY):\n",
      "    models = []\n",
      "    indices = kfold_indices(9,9)\n",
      "    error = 0\n",
      "    lamb = []\n",
      "    for i in range(0,11):\n",
      "        lamb.append(math.exp(i-10))\n",
      "    #loop over 11 different M\n",
      "    for m in range(0,11):\n",
      "        models.append([])\n",
      "        #loop over 11 different lamb\n",
      "        for lambd in lamb:\n",
      "            models[m].append([])\n",
      "            #reset error to zero\n",
      "            error = 0\n",
      "            #fit polynomial for train_folds\n",
      "            poly = fit_polynomial_reg(dataX, dataY, m, lambd)\n",
      "            #loop over 9 folds\n",
      "            for k in range(0,8):\n",
      "                for l in range(0,8):\n",
      "                    #create train_fold\n",
      "                    train_foldX = dataX[indices[0][l]]\n",
      "                    train_foldY = dataY[indices[0][l]]\n",
      "                #sum calculated prediction error\n",
      "                error = error + (train_foldX[k] - np.polyval(poly,train_foldY[k]))**2\n",
      "            #update models with error for M and lamb\n",
      "            models[m][10-int(-1*math.log(lambd))] = (error[0]/8)\n",
      "    return models\n",
      "\n",
      "def plot_errors(errors, best):\n",
      "    bestX = best[0]\n",
      "    bestY = best[1]\n",
      "    groups = len(errors)\n",
      "    \n",
      "    ind = np.arange(groups)\n",
      "    width = 0.07\n",
      "    \n",
      "    fig, ax = plt.subplots()\n",
      "    rcParams['figure.figsize'] = 13, 5\n",
      "    for lam in errors:\n",
      "        ax.bar(ind, lam, width, color='r')\n",
      "        ind = ind + width\n",
      "    \n",
      "    ax.set_ylabel('Error')\n",
      "    ax.set_title('Error grouped by M')\n",
      "    ax.set_xticks(np.arange(groups) + width)\n",
      "    ax.set_xticklabels(('M=0', 'M=1', 'M=2', 'M=3', 'M=4', 'M=5', 'M=6', 'M=7', 'M=8', 'M=9', 'M=10'))\n",
      "    \n",
      "    ## highlight best ##\n",
      "    arr = Arrow(50, 50, 100, 100, edgecolor='white')\n",
      "    ax = gca()\n",
      "    ax.add_patch(arr)\n",
      "    arr.set_facecolor('g')\n",
      "    \n",
      "    plt.show()\n",
      "    \n",
      "    \n",
      "sampleData = generateSampleDataSet(9)\n",
      "#print sampleData\n",
      "errors = model_evaluation(sampleData[0],sampleData[1])\n",
      "\n",
      "plot_errors(errors, [3, 3])"
     ],
     "language": "python",
     "metadata": {},
     "outputs": [
      {
       "output_type": "display_data",
       "png": "[encoded data removed]"
      }
     ],
     "prompt_number": 75
    },
    {
     "cell_type": "heading",
     "level": 3,
     "metadata": {},
     "source": [
      "1.6 Plot best cross-validated fit"
     ]
    },
    {
     "cell_type": "code",
     "collapsed": false,
     "input": [
      "def get_best_model(models):\n",
      "    best_error = models[0][0];\n",
      "    best_i = 0;\n",
      "    best_j = 0;\n",
      "    for i in range(0,11):\n",
      "        for j in range(0,11):\n",
      "            if (models[i][j] < best_error):\n",
      "                best_error = models[i][j]\n",
      "                best_i = i\n",
      "                best_j = j\n",
      "    return best_i,best_j\n",
      "\n",
      "print get_best_model(model_evaluation(sampleData[0],sampleData[1]))"
     ],
     "language": "python",
     "metadata": {},
     "outputs": [
      {
       "output_type": "stream",
       "stream": "stdout",
       "text": [
        "(3, 10)\n"
       ]
      }
     ],
     "prompt_number": 71
    },
    {
     "cell_type": "heading",
     "level": 1,
     "metadata": {},
     "source": [
      "Part 2: Bayesian Linear (Polynomial) Regression\n"
     ]
    },
    {
     "cell_type": "heading",
     "level": 3,
     "metadata": {},
     "source": [
      "2.1 Sinusoidal data 2 "
     ]
    },
    {
     "cell_type": "code",
     "collapsed": false,
     "input": [
      "%pylab inline\n",
      "\n",
      "def gen_sinusoidal2(N):    \n",
      "    for i in linspace (0, 2*pi, N):\n",
      "        plot(i + random.uniform(-0.1, 0.1), sin(i)+ random.normal(-0.1, 0.1), 'o')\n",
      "    \n",
      "    x = linspace (0,2*pi)\n",
      "    plot(x, sin(x))\n",
      "    \n",
      "gen_sinusoidal2(10)\n"
     ],
     "language": "python",
     "metadata": {},
     "outputs": [
      {
       "output_type": "stream",
       "stream": "stdout",
       "text": [
        "\n",
        "Welcome to pylab, a matplotlib-based Python environment [backend: module://IPython.zmq.pylab.backend_inline].\n",
        "For more information, type 'help(pylab)'.\n"
       ]
      },
      {
       "output_type": "display_data",
       "png": "[encoded data removed]"
      }
     ],
     "prompt_number": 7
    },
    {
     "cell_type": "heading",
     "level": 3,
     "metadata": {},
     "source": [
      "2.2 Compute Posterior"
     ]
    },
    {
     "cell_type": "code",
     "collapsed": false,
     "input": [],
     "language": "python",
     "metadata": {},
     "outputs": [],
     "prompt_number": 7
    },
    {
     "cell_type": "heading",
     "level": 3,
     "metadata": {},
     "source": [
      "2.3 Prediction"
     ]
    },
    {
     "cell_type": "code",
     "collapsed": false,
     "input": [],
     "language": "python",
     "metadata": {},
     "outputs": [],
     "prompt_number": 7
    },
    {
     "cell_type": "heading",
     "level": 3,
     "metadata": {},
     "source": [
      "2.4 Prot predictive distribution"
     ]
    },
    {
     "cell_type": "code",
     "collapsed": false,
     "input": [],
     "language": "python",
     "metadata": {},
     "outputs": [],
     "prompt_number": 7
    },
    {
     "cell_type": "heading",
     "level": 3,
     "metadata": {},
     "source": [
      "2.5 Additional questions"
     ]
    },
    {
     "cell_type": "code",
     "collapsed": false,
     "input": [],
     "language": "python",
     "metadata": {},
     "outputs": []
    }
   ],
   "metadata": {}
  }
 ]
}