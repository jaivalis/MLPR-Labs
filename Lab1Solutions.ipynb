{
 "metadata": {
  "name": "Lab1Solutions"
 },
 "nbformat": 3,
 "nbformat_minor": 0,
 "worksheets": [
  {
   "cells": [
    {
     "cell_type": "heading",
     "level": 1,
     "metadata": {},
     "source": [
      "Lab 1A: Linear Regression and Overfitting"
     ]
    },
    {
     "cell_type": "heading",
     "level": 2,
     "metadata": {},
     "source": [
      "Part 1: Polynomial Regression"
     ]
    },
    {
     "cell_type": "heading",
     "level": 3,
     "metadata": {},
     "source": [
      "1.1. Generate sinusoidal data"
     ]
    },
    {
     "cell_type": "code",
     "collapsed": false,
     "input": [
      "%pylab inline\n",
      "def gen_sinusoidal(N):\n",
      "    retx = []\n",
      "    rety = []\n",
      "    for i in linspace (0, 2*pi, N):        \n",
      "        retx.append(i)\n",
      "        rety.append(np.sin(i) + np.random.normal(-0.1, 0.1))\n",
      "    retx = np.array([retx])\n",
      "    rety = np.array([rety])\n",
      "    return np.concatenate((retx, rety), axis = 0)\n",
      "    \n",
      "#gen_sinusoidal(10)"
     ],
     "language": "python",
     "metadata": {},
     "outputs": [
      {
       "output_type": "stream",
       "stream": "stdout",
       "text": [
        "Populating the interactive namespace from numpy and matplotlib\n"
       ]
      }
     ],
     "prompt_number": 119
    },
    {
     "cell_type": "heading",
     "level": 3,
     "metadata": {},
     "source": [
      "Task 1.2 Polynomial Regression"
     ]
    },
    {
     "cell_type": "code",
     "collapsed": false,
     "input": [
      "%pylab inline\n",
      "import numpy as np\n",
      "\n",
      "def fit_polynomial(x, t, M):\n",
      "    w=[]\n",
      "    y=[]\n",
      "    for i in range(0, M+1):\n",
      "        w.append([])\n",
      "        if(i == 0):\n",
      "            y.append([])\n",
      "        for j in range (0, M+1):\n",
      "            w[i].append(j)\n",
      "            if(i == 0):\n",
      "                y[i].append(j)\n",
      "            w[i][j]=0\n",
      "            if(i == 0):\n",
      "                y[0][j] = 0\n",
      "            for k in range(0,len(x)):\n",
      "                w[i][j] = w[i][j] + pow(x[k], i + j)\n",
      "                if(i==0):\n",
      "                    y[i][j] = y[i][j] + t[k] * pow(x[k], j)\n",
      "    a=linalg.inv(w)\n",
      "    result = dot(a, transpose(y))\n",
      "    return result\n",
      "\n",
      "# data to fit\n",
      "x = [0.0,1.0,2,3,4,5]\n",
      "y = [0,0.8,0.9,0.1,-0.8,-1]\n",
      "#print fit_polynomial(x, y, 3)"
     ],
     "language": "python",
     "metadata": {},
     "outputs": [
      {
       "output_type": "stream",
       "stream": "stdout",
       "text": [
        "Populating the interactive namespace from numpy and matplotlib\n"
       ]
      }
     ],
     "prompt_number": 120
    },
    {
     "cell_type": "heading",
     "level": 3,
     "metadata": {},
     "source": [
      "Task 1.3 Plot"
     ]
    },
    {
     "cell_type": "code",
     "collapsed": false,
     "input": [
      "import matplotlib.pyplot as plt\n",
      "import numpy as np\n",
      "def fit_polynomial(x,t,M):\n",
      "    w=[]\n",
      "    y=[]\n",
      "    for i in range(0,M+1):\n",
      "        w.append([])\n",
      "        if(i == 0):\n",
      "            y.append([])\n",
      "        for j in range (0, M+1):\n",
      "            w[i].append(j)\n",
      "            if(i == 0):\n",
      "                y[i].append(j)\n",
      "            w[i][j] = 0 \n",
      "            if(i == 0):\n",
      "                y[0][j]=0\n",
      "            for k in range(0, len(x)):\n",
      "                w[i][j] = w[i][j] + pow(x[k], i + j)\n",
      "                if(i == 0):\n",
      "                    y[i][j] = y[i][j] + t[k]*pow(x[k], j)\n",
      "    a=linalg.inv(w)\n",
      "    result = dot(a, transpose(y))\n",
      "    return result\n",
      "\n",
      "def generateSampleDataSet(N):\n",
      "    x = np.linspace(0, 2*np.pi, N) \n",
      "    retx = []\n",
      "    rety = []\n",
      "    for i in x:\n",
      "        retx.append(i)\n",
      "        rety.append(np.sin(i) + np.random.normal(-0.1, 0.1))\n",
      "    retx = np.array([retx])\n",
      "    rety = np.array([rety])\n",
      "    return np.concatenate((retx, rety), axis = 0)\n",
      "\n",
      "def fit_polynominals() :\n",
      "    x = np.linspace(0,2 * np.pi)\n",
      "    pol = []\n",
      "    M = [0, 1, 3, 8]\n",
      "    sampleData = generateSampleDataSet(9)\n",
      "    sampleX = sampleData[0]\n",
      "    sampleY = sampleData[1]\n",
      "    \n",
      "    fig = plt.figure()\n",
      "    subplot = 1\n",
      "    for m in M:    \n",
      "        fig.add_subplot(2,2,subplot)\n",
      "        plt.plot(x, np.sin(x))\n",
      "        for i in range (0, np.size(sampleX)):\n",
      "            plt.plot(sampleX[i], sampleY[i], marker='o', color='k')\n",
      "        poly = fit_polynomial(sampleX, sampleY, m)\n",
      "        pol = np.polynomial.Polynomial(poly.reshape(1,poly.shape[0])[0])\n",
      "        plt.plot(x, pol(x), 'r')\n",
      "        subplot = subplot + 1\n",
      "    plt.show()\n",
      "    \n",
      "fit_polynominals()"
     ],
     "language": "python",
     "metadata": {},
     "outputs": [
      {
       "metadata": {},
       "output_type": "display_data",
       "png": "[encoded data removed]",
       "text": [
        "<matplotlib.figure.Figure at 0x9009c88>"
       ]
      }
     ],
     "prompt_number": 121
    },
    {
     "cell_type": "heading",
     "level": 3,
     "metadata": {},
     "source": [
      "1.4 Reguralized linear Regression"
     ]
    },
    {
     "cell_type": "code",
     "collapsed": false,
     "input": [
      "%pylab inline\n",
      "import numpy as np\n",
      "import matplotlib.pyplot as plt\n",
      "\n",
      "def fit_polynomial_reg(x,t,M,lamb):\n",
      "    w=[]\n",
      "    y=[]\n",
      "    for i in range(0,M+1):\n",
      "        w.append([])\n",
      "        if(i==0):\n",
      "            y.append([])\n",
      "        for j in range (0, M+1):\n",
      "            w[i].append(j)\n",
      "            if(i==0):\n",
      "                y[i].append(j)\n",
      "            w[i][j]=0\n",
      "            if(i==0):\n",
      "                y[0][j]=0\n",
      "            for k in range(0,len(x)):\n",
      "                w[i][j] = w[i][j] + pow(x[k], i+j)\n",
      "                if(i==0):\n",
      "                    y[i][j] = y[i][j] + t[k]*pow(x[k], j)\n",
      "    a = linalg.inv(w)\n",
      "    identity_Matrix = np.identity(M + 1)\n",
      "    identity_Matrix[0][0] = 0\n",
      "    a = a + dot(lamb,a)\n",
      "    result = dot(a,transpose(y))\n",
      "    return result"
     ],
     "language": "python",
     "metadata": {},
     "outputs": [
      {
       "output_type": "stream",
       "stream": "stdout",
       "text": [
        "Populating the interactive namespace from numpy and matplotlib\n"
       ]
      }
     ],
     "prompt_number": 123
    },
    {
     "cell_type": "heading",
     "level": 3,
     "metadata": {},
     "source": [
      "1.5 Model selection by cross validation"
     ]
    },
    {
     "cell_type": "code",
     "collapsed": false,
     "input": [
      "import numpy as np\n",
      "\n",
      "def generateSampleDataSet(N):\n",
      "    x = np.linspace(0,2*np.pi, N) \n",
      "    retx = []\n",
      "    rety = []\n",
      "    for i in x:\n",
      "        retx.append(i)\n",
      "        rety.append(np.sin(i) + np.random.normal(-0.1, 0.1))\n",
      "    retx = np.array([retx])\n",
      "    rety = np.array([rety])\n",
      "    return np.concatenate((retx, rety), axis = 0)\n",
      "\n",
      "def kfold_indices(N,k):\n",
      "    all_indices = np.arange(N,dtype=int)\n",
      "    np.random.shuffle(all_indices)\n",
      "    idx = np.floor(np.linspace(0,N,k+1))\n",
      "    train_folds = []\n",
      "    valid_folds = []\n",
      "    for fold in range(k):\n",
      "        valid_indices = all_indices[idx[fold]:idx[fold+1]]\n",
      "        valid_folds.append(valid_indices)\n",
      "        train_folds.append(np.setdiff1d(all_indices, valid_indices)) #appends an array of idk - valid_folds to train_folds\n",
      "    return train_folds, valid_folds\n",
      "\n",
      "def fit_polynomial_reg(x,t,M,lamb):\n",
      "    w=[]\n",
      "    y=[]\n",
      "    for i in range(0,M+1):\n",
      "        w.append([])\n",
      "        if(i==0):\n",
      "            y.append([])\n",
      "        for j in range (0,M+1):\n",
      "            w[i].append(j)\n",
      "            if(i==0):\n",
      "                y[i].append(j)\n",
      "            w[i][j] = 0\n",
      "            if(i==0):\n",
      "                y[0][j] = 0\n",
      "            for k in range(0,len(x)):\n",
      "                w[i][j] = w[i][j] + pow(x[k],i+j)\n",
      "                if(i==0):\n",
      "                    y[i][j] = y[i][j] + t[k]*pow(x[k],j)\n",
      "    a=linalg.inv(w)\n",
      "    identity_Matrix = np.identity(M + 1)\n",
      "    identity_Matrix[0][0] = 0\n",
      "    a = a + dot(lamb,a)\n",
      "    result = dot(a,transpose(y))\n",
      "    return result\n",
      "        \n",
      "#evaluate all models with different M and lamb with given data\n",
      "def model_evaluation(dataX,dataY):\n",
      "    models = []\n",
      "    indices = kfold_indices(9,9)\n",
      "    error = 0\n",
      "    lamb = []\n",
      "    for i in range(0,11):\n",
      "        lamb.append(math.exp(i-10))\n",
      "   \n",
      "    for m in range(0,11): #loop over 11 Ms\n",
      "        models.append([])\n",
      "        \n",
      "        for lambd in lamb: #loop over 11 lambdas\n",
      "            models[m].append([])\n",
      "            #reset error to zero\n",
      "            error = 0\n",
      "            #fit polynomial for train_folds\n",
      "            poly = fit_polynomial_reg(dataX, dataY, m, lambd)\n",
      "            #loop over 9 folds\n",
      "            for k in range(0,8):\n",
      "                for l in range(0,8):\n",
      "                    #create train_fold\n",
      "                    train_foldX = dataX[indices[0][l]]\n",
      "                    train_foldY = dataY[indices[0][l]]\n",
      "                #sum calculated prediction error\n",
      "                error = error + (train_foldX[k] - np.polyval(poly, train_foldY[k]))**2\n",
      "            #update models with error for M and lamb\n",
      "            models[m][10 - int(-1*math.log(lambd))] = (sqrt(error[0]/9))\n",
      "    return models\n",
      "\n",
      "def get_best_model(models):\n",
      "    best_error = models[0][0];\n",
      "    best_i = 0;\n",
      "    best_j = 0;\n",
      "    for i in range(0,11):\n",
      "        for j in range(0,11):\n",
      "            if (models[i][j] < best_error):\n",
      "                best_error = models[i][j]\n",
      "                best_i = i\n",
      "                best_j = j\n",
      "    return best_i,best_j\n",
      "\n",
      "def plot_errors(errors, best):\n",
      "    bestX = best[0]\n",
      "    bestY = best[1]\n",
      "    groups = len(errors)\n",
      "    \n",
      "    ind = np.arange(groups)\n",
      "    width = 0.07\n",
      "    \n",
      "    fig, ax = plt.subplots()\n",
      "    rcParams['figure.figsize'] = 13, 5\n",
      "    for lam in errors:\n",
      "        ax.bar(ind, lam, width, color='r')\n",
      "        ind = ind + width\n",
      "    \n",
      "    ax.set_ylabel('Error')\n",
      "    ax.set_title('Error grouped by M')\n",
      "    ax.set_xticks(np.arange(groups) + width)\n",
      "    ax.set_xticklabels(('M=0', 'M=1', 'M=2', 'M=3', 'M=4', 'M=5', 'M=6', 'M=7', 'M=8', 'M=9', 'M=10'))\n",
      "    \n",
      "    ## highlight best ##\n",
      "    times = 0\n",
      "    highestError = 0\n",
      "    for m in errors:\n",
      "       for n in m:\n",
      "            highestError = max(highestError, n)\n",
      "    bestHeight = errors[bestX][bestY]\n",
      "    \n",
      "    ax.annotate('Best performing lambda, M combination (' + str(bestX) + ', ' + str(bestY) + ')',\n",
      "                xy=(bestX + (bestY + 1) * width, bestHeight), xycoords='data',\n",
      "                xytext=(4, 0.8 * highestError), textcoords='data',\n",
      "                arrowprops=dict(arrowstyle=\"->\",\n",
      "                                connectionstyle=\"arc3\"), \n",
      "                )\n",
      "    plt.show()\n",
      "    \n",
      "sampleData = generateSampleDataSet(9)\n",
      "models = model_evaluation(sampleData[0],sampleData[1])\n",
      "\n",
      "plot_errors(models, get_best_model(models))"
     ],
     "language": "python",
     "metadata": {},
     "outputs": [
      {
       "metadata": {},
       "output_type": "display_data",
       "png": "[encoded data removed]",
       "text": [
        "<matplotlib.figure.Figure at 0x9471f60>"
       ]
      }
     ],
     "prompt_number": 124
    },
    {
     "cell_type": "raw",
     "metadata": {},
     "source": [
      "Overfitting describes the situation in which the the dimension of the polynomial function (M) of the model is chosen too high. As long as only tested on the training data, models perform very well. But since the coefficents w* increase dramatically as shown in Bishop Table 1.1, the prediction error increases significantly on new data. This is observed in the right side of the plot.\n",
      "On the contrary very low values for M result in underfitting. This occurs, if the choice of the model's M is too small. Models with constant or first order polynomials lack the ability to capture trends in the data.\n",
      "Seeking the best values for the weight vector w as well as the regularization coeffitient \u03bb does not limit to minimizing the error though. If it were so, always setting \u03bb to 0 would have the best result, but we can see in the bar chart above that this is not the case.\n",
      "\n",
      "Bias quantifies the difference between the average prediction over all datasets and the desired regression function. The measurement of the extend to which the predictions vary around the average is called variance. The quantity that relates to both terms is the expected loss and the relationship of those terms is as follows:\n",
      "\n",
      "(bias)\u00b2 + variance + noise = expected loss\n",
      "\n",
      "The goal beeing minimizing the expected loss, it is easy to see that there is a trade-off between the two quantities. A good model is correlated to find a good balance between bias and variance."
     ]
    },
    {
     "cell_type": "heading",
     "level": 3,
     "metadata": {},
     "source": [
      "1.6 Plot best cross-validated fit"
     ]
    },
    {
     "cell_type": "code",
     "collapsed": false,
     "input": [
      "def get_best_model(models):\n",
      "    best_error = models[0][0];\n",
      "    best_i = 0;\n",
      "    best_j = 0;\n",
      "    for i in range(0,11):\n",
      "        for j in range(0,11):\n",
      "            if (models[i][j] < best_error):\n",
      "                best_error = models[i][j]\n",
      "                best_i = i\n",
      "                best_j = j\n",
      "    return best_i,best_j\n",
      "\n",
      "def plot_cross_validated_fit():\n",
      "    x = np.linspace(0,2 * np.pi)\n",
      "    sampleData = generateSampleDataSet(9)\n",
      "    models = model_evaluation(sampleData[0],sampleData[1])\n",
      "    best = get_best_model(models)\n",
      "    \n",
      "    poly = fit_polynomial_reg(sampleData[0], sampleData[1], best[0], best[1])\n",
      "    \n",
      "    sampleX = sampleData[0]\n",
      "    sampleY = sampleData[1]\n",
      "    for i in range (0, np.size(sampleX)):\n",
      "        plt.plot(sampleX[i], sampleY[i], marker='o', color='k')\n",
      "    pol = np.polynomial.Polynomial(poly.reshape(1,poly.shape[0])[0])\n",
      "    plt.plot(x, pol(x), 'r')\n",
      "    title('The best model is Model [M=' + str(best[0]) + ', lambda=' +  str(best[1]) + ']')\n",
      "    \n",
      "    \n",
      "plot_cross_validated_fit()"
     ],
     "language": "python",
     "metadata": {},
     "outputs": [
      {
       "metadata": {},
       "output_type": "display_data",
       "png": "[encoded data removed]",
       "text": [
        "<matplotlib.figure.Figure at 0x8ff2cf8>"
       ]
      }
     ],
     "prompt_number": 134
    },
    {
     "cell_type": "heading",
     "level": 1,
     "metadata": {},
     "source": [
      "Part 2: Bayesian Linear (Polynomial) Regression\n"
     ]
    },
    {
     "cell_type": "heading",
     "level": 3,
     "metadata": {},
     "source": [
      "2.1 Sinusoidal data 2 "
     ]
    },
    {
     "cell_type": "code",
     "collapsed": false,
     "input": [
      "%pylab inline\n",
      "\n",
      "def gen_sinusoidal2(N):\n",
      "    retx = []\n",
      "    rety = []\n",
      "    for i in np.linspace(0, 2*np.pi, N) :\n",
      "        retx.append(i + random.uniform(-0.1, 0.1))\n",
      "        rety.append(np.sin(i) + np.random.normal(-0.1, 0.1))\n",
      "    retx = np.array([retx])\n",
      "    rety = np.array([rety])\n",
      "    return np.concatenate((retx, rety), axis = 0)\n",
      "\n",
      "#gen_sinusoidal2(10)\n"
     ],
     "language": "python",
     "metadata": {},
     "outputs": [
      {
       "output_type": "stream",
       "stream": "stdout",
       "text": [
        "Populating the interactive namespace from numpy and matplotlib\n"
       ]
      }
     ],
     "prompt_number": 126
    },
    {
     "cell_type": "heading",
     "level": 3,
     "metadata": {},
     "source": [
      "2.2 Compute Posterior"
     ]
    },
    {
     "cell_type": "code",
     "collapsed": false,
     "input": [
      "def get_Phi (x, M):\n",
      "    Phi = []\n",
      "    for i in range (0, len(x)):\n",
      "        phi = get_phi(x[i], M)\n",
      "        Phi.append(phi)\n",
      "    return np.array(Phi)\n",
      "                   \n",
      "\n",
      "def  fit_polynomial_bayes(x, t, M, alpha, beta):\n",
      "    Phi = get_Phi(x, M)\n",
      "    \n",
      "    s_n = inv( alpha * (np.identity(M)) + beta * (transpose(Phi)).dot(Phi) )\n",
      "    m_n = beta  * dot(transpose(dot(Phi,s_n)),transpose(t))\n",
      "    return m_n, s_n # mean, covariance of posterior.\n",
      "\n",
      "#toy_data = gen_sinusoidal2(7)\n",
      "#print toy_data\n",
      "x = [-0.05620824,  1.00078937,  2.1429807,   3.16015134,  4.19276313,  5.21819086, 6.22000009] #toy_data[0]\n",
      "t = [-0.2109823,   0.73987949,  0.86517514, -0.19954382, -1.09343082, -0.95887636, -0.24633497] #toy_data[1]\n",
      "\n",
      "#fit_polynomial_bayes(x, t, 5, 0.5, 25)"
     ],
     "language": "python",
     "metadata": {},
     "outputs": [],
     "prompt_number": 127
    },
    {
     "cell_type": "heading",
     "level": 3,
     "metadata": {},
     "source": [
      "2.3 Prediction"
     ]
    },
    {
     "cell_type": "code",
     "collapsed": false,
     "input": [
      "def get_phi(x, M):\n",
      "    phi = []\n",
      "    for i in range(0, M):\n",
      "        phi.append([])\n",
      "        phi[i] = (x**i)\n",
      "    return np.array(phi)\n",
      "\n",
      "def get_sigma(phi_x, t) :\n",
      "    sigma = 0\n",
      "    #print phi_x\n",
      "    for i in len(phi_x) :\n",
      "        sigma = sigma + dot(phi_x,t)\n",
      "    return sigma\n",
      "    \n",
      "def predict_polynomial_bayes(x, m, S, beta):\n",
      "    phi_x = get_phi(x, 5)\n",
      "    \n",
      "    #print dot(dot(transpose(phi_x),S),phi_x)\n",
      "    sigma_square = 1/beta + dot(dot(transpose(phi_x),S),phi_x)\n",
      "    \n",
      "    m_pred = transpose(m).dot(phi_x)\n",
      "    return m_pred, sigma_square \n",
      "\n",
      "#predict_polynomial_bayes(1, fit_polynomial_bayes(x, t, 5, 0.5, 25)[0], fit_polynomial_bayes(x, t, 5, 0.5, 25)[1], 25)"
     ],
     "language": "python",
     "metadata": {},
     "outputs": [],
     "prompt_number": 129
    },
    {
     "cell_type": "heading",
     "level": 3,
     "metadata": {},
     "source": [
      "2.4 Plot predictive distribution"
     ]
    },
    {
     "cell_type": "code",
     "collapsed": false,
     "input": [
      "%pylab inline\n",
      "def plot_Bayesian_predictive_distribution(x, t, m_n, s_n):\n",
      "    rang = linspace(0, 2*pi);\n",
      "    \n",
      "    for i in range (0, len(t)):\n",
      "        plot (x[i], t[i], marker='o', color='k')\n",
      "    \n",
      "    poly = m_n\n",
      "    pol = np.polynomial.Polynomial(poly.reshape(1,poly.shape[0])[0])\n",
      "    \n",
      "    #plot the mean predictive distribution\n",
      "    plt.plot(rang, pol(rang), 'r')\n",
      "    \n",
      "    #plot the 1-sigma variance\n",
      "    plt.fill_between(rang, pol(rang)-math.sqrt(predict_polynomial_bayes(1, fit_polynomial_bayes(x, t, 5, 0.5, 25)[0],\n",
      "        fit_polynomial_bayes(x, t, 5, 0.5, 25)[1], 25)[1]), pol(rang)+math.sqrt(predict_polynomial_bayes(1, fit_polynomial_bayes(x, t, 5, 0.5, 25)[0],\n",
      "        fit_polynomial_bayes(x, t, 5, 0.5, 25)[1], 25)[1]), alpha = 0.1)\n",
      "    \n",
      "toy_data = gen_sinusoidal2(7)\n",
      "x = toy_data[0]\n",
      "t = toy_data[1]\n",
      "\n",
      "snmn = fit_polynomial_bayes(x, t, 5, 0.5, 1/(0.2)**2)\n",
      "m_n = snmn[0]\n",
      "s_n = snmn[1]\n",
      "\n",
      "plot_Bayesian_predictive_distribution(x, t, m_n, s_n)"
     ],
     "language": "python",
     "metadata": {},
     "outputs": [
      {
       "output_type": "stream",
       "stream": "stdout",
       "text": [
        "Populating the interactive namespace from numpy and matplotlib\n"
       ]
      },
      {
       "metadata": {},
       "output_type": "display_data",
       "png": "[encoded data removed]",
       "text": [
        "<matplotlib.figure.Figure at 0x944fa90>"
       ]
      }
     ],
     "prompt_number": 131
    },
    {
     "cell_type": "code",
     "collapsed": false,
     "input": [
      "def plot2():\n",
      "    xrang = linspace(0, 2*pi)\n",
      "    fig = plt.figure()\n",
      "    toy_data = gen_sinusoidal2(7)\n",
      "    x = toy_data[0]\n",
      "    t = toy_data[1]\n",
      "    \n",
      "    snmn = fit_polynomial_bayes(x, t, 5, 0.5, 1/(0.2)**2)\n",
      "    m_n = snmn[0]\n",
      "    s_n = snmn[1]\n",
      "        \n",
      "    pol = np.polynomial.Polynomial(m_n.reshape(1, m_n.shape[0])[0])\n",
      "    \n",
      "    for i in range (0, len(x)):\n",
      "        plot (x[i], t[i], 'o')\n",
      "    for i in linspace (0, 2*pi, 100): \n",
      "        newm_n = predict_polynomial_bayes(i, m_n, s_n, 25)[0]\n",
      "        plot(i, newm_n, 'x')    \n",
      "    title('Denoted with \\'x\\' are the predicted values')\n",
      "\n",
      "plot2()"
     ],
     "language": "python",
     "metadata": {},
     "outputs": [
      {
       "output_type": "display_data",
       "png": "[encoded data removed]"
      }
     ],
     "prompt_number": 372
    },
    {
     "cell_type": "heading",
     "level": 3,
     "metadata": {},
     "source": [
      "2.5 Additional questions"
     ]
    },
    {
     "cell_type": "raw",
     "metadata": {},
     "source": [
      "a) Since we added Gaussian noise with standard deviation of 0.2 while generating the data in 2.1 the best choice for the precision parameter is its true value beta = (1/0.2)\u00b2 = 25"
     ]
    },
    {
     "cell_type": "raw",
     "metadata": {},
     "source": [
      "b) "
     ]
    }
   ],
   "metadata": {}
  }
 ]
}